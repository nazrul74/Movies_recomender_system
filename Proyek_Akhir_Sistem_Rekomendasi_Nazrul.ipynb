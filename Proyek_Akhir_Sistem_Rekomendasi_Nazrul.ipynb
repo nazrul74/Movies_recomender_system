{
  "nbformat": 4,
  "nbformat_minor": 0,
  "metadata": {
    "colab": {
      "provenance": []
    },
    "kernelspec": {
      "name": "python3",
      "display_name": "Python 3"
    },
    "language_info": {
      "name": "python"
    }
  },
  "cells": [
    {
      "cell_type": "markdown",
      "source": [
        "# Proyek Akhir : Membuat Model Sistem Rekomendasi\n",
        "Nama: Nazrul Effendy\n",
        "\n",
        "Data: https://www.kaggle.com/datasets/khusheekapoor/coursera-courses-dataset-2021/data"
      ],
      "metadata": {
        "id": "8SgyMl09Ubgb"
      }
    },
    {
      "cell_type": "markdown",
      "source": [
        "### Download dataset:"
      ],
      "metadata": {
        "id": "H3XJ2HvpaBop"
      }
    },
    {
      "cell_type": "code",
      "execution_count": 1,
      "metadata": {
        "colab": {
          "base_uri": "https://localhost:8080/"
        },
        "id": "J2Q4_CiiUR0v",
        "outputId": "d99cd8c6-7c51-42a8-99b9-194a8d61f592"
      },
      "outputs": [
        {
          "output_type": "stream",
          "name": "stdout",
          "text": [
            "Dataset URL: https://www.kaggle.com/datasets/khusheekapoor/coursera-courses-dataset-2021\n",
            "License(s): unknown\n",
            "Downloading coursera-courses-dataset-2021.zip to /content\n",
            "  0% 0.00/1.65M [00:00<?, ?B/s]\n",
            "100% 1.65M/1.65M [00:00<00:00, 128MB/s]\n"
          ]
        }
      ],
      "source": [
        "!kaggle datasets download -d khusheekapoor/coursera-courses-dataset-2021"
      ]
    },
    {
      "cell_type": "markdown",
      "source": [
        "## Unzip data coursera-courses-dataset-2021.zip"
      ],
      "metadata": {
        "id": "MlpHTqIvaYFY"
      }
    },
    {
      "cell_type": "code",
      "source": [
        "!unzip coursera-courses-dataset-2021.zip"
      ],
      "metadata": {
        "colab": {
          "base_uri": "https://localhost:8080/"
        },
        "id": "ZBJ14_R6aKgC",
        "outputId": "141a7ade-6c08-4dbe-cda0-6f455cee318e"
      },
      "execution_count": 2,
      "outputs": [
        {
          "output_type": "stream",
          "name": "stdout",
          "text": [
            "Archive:  coursera-courses-dataset-2021.zip\n",
            "  inflating: Coursera.csv            \n"
          ]
        }
      ]
    },
    {
      "cell_type": "markdown",
      "source": [
        "### Impor library-library yang diperlukan"
      ],
      "metadata": {
        "id": "SwZRSSkNyubT"
      }
    },
    {
      "cell_type": "code",
      "source": [
        "import pandas as pd\n",
        "import numpy as np\n",
        "import matplotlib.pyplot as plt\n",
        "import seaborn as sns\n",
        "\n",
        "from sklearn.metrics.pairwise import cosine_similarity\n",
        "from sklearn.feature_extraction.text import CountVectorizer\n",
        "import re\n",
        "import nltk\n",
        "from nltk.stem import WordNetLemmatizer"
      ],
      "metadata": {
        "id": "Iy32q4uRateo"
      },
      "execution_count": 3,
      "outputs": []
    },
    {
      "cell_type": "markdown",
      "source": [
        "# Data Understanding"
      ],
      "metadata": {
        "id": "oWdjnuDaak14"
      }
    },
    {
      "cell_type": "markdown",
      "source": [
        "### Loading dataset dan menampilkan 5 baris pertama dari dataset tersebut:"
      ],
      "metadata": {
        "id": "Y9vSu5Ry3V70"
      }
    },
    {
      "cell_type": "code",
      "source": [
        "# Load the dataset\n",
        "df = pd.read_csv(\"Coursera.csv\")\n",
        "df.head()"
      ],
      "metadata": {
        "colab": {
          "base_uri": "https://localhost:8080/",
          "height": 310
        },
        "id": "Hg-kjzGMaoZp",
        "outputId": "075691dc-d539-484f-cf48-8abf8d09620b"
      },
      "execution_count": 4,
      "outputs": [
        {
          "output_type": "execute_result",
          "data": {
            "text/plain": [
              "                                         Course Name  \\\n",
              "0  Write A Feature Length Screenplay For Film Or ...   \n",
              "1  Business Strategy: Business Model Canvas Analy...   \n",
              "2                      Silicon Thin Film Solar Cells   \n",
              "3                               Finance for Managers   \n",
              "4       Retrieve Data using Single-Table SQL Queries   \n",
              "\n",
              "                  University Difficulty Level Course Rating  \\\n",
              "0  Michigan State University         Beginner           4.8   \n",
              "1   Coursera Project Network         Beginner           4.8   \n",
              "2        �cole Polytechnique         Advanced           4.1   \n",
              "3       IESE Business School     Intermediate           4.8   \n",
              "4   Coursera Project Network         Beginner           4.6   \n",
              "\n",
              "                                          Course URL  \\\n",
              "0  https://www.coursera.org/learn/write-a-feature...   \n",
              "1  https://www.coursera.org/learn/canvas-analysis...   \n",
              "2  https://www.coursera.org/learn/silicon-thin-fi...   \n",
              "3  https://www.coursera.org/learn/operational-fin...   \n",
              "4  https://www.coursera.org/learn/single-table-sq...   \n",
              "\n",
              "                                  Course Description  \\\n",
              "0  Write a Full Length Feature Film Script  In th...   \n",
              "1  By the end of this guided project, you will be...   \n",
              "2  This course consists of a general presentation...   \n",
              "3  When it comes to numbers, there is always more...   \n",
              "4  In this course you�ll learn how to effectively...   \n",
              "\n",
              "                                              Skills  \n",
              "0  Drama  Comedy  peering  screenwriting  film  D...  \n",
              "1  Finance  business plan  persona (user experien...  \n",
              "2  chemistry  physics  Solar Energy  film  lambda...  \n",
              "3  accounts receivable  dupont analysis  analysis...  \n",
              "4  Data Analysis  select (sql)  database manageme...  "
            ],
            "text/html": [
              "\n",
              "  <div id=\"df-2b15a2a9-d18d-4644-b0a6-d94bb34e71bd\" class=\"colab-df-container\">\n",
              "    <div>\n",
              "<style scoped>\n",
              "    .dataframe tbody tr th:only-of-type {\n",
              "        vertical-align: middle;\n",
              "    }\n",
              "\n",
              "    .dataframe tbody tr th {\n",
              "        vertical-align: top;\n",
              "    }\n",
              "\n",
              "    .dataframe thead th {\n",
              "        text-align: right;\n",
              "    }\n",
              "</style>\n",
              "<table border=\"1\" class=\"dataframe\">\n",
              "  <thead>\n",
              "    <tr style=\"text-align: right;\">\n",
              "      <th></th>\n",
              "      <th>Course Name</th>\n",
              "      <th>University</th>\n",
              "      <th>Difficulty Level</th>\n",
              "      <th>Course Rating</th>\n",
              "      <th>Course URL</th>\n",
              "      <th>Course Description</th>\n",
              "      <th>Skills</th>\n",
              "    </tr>\n",
              "  </thead>\n",
              "  <tbody>\n",
              "    <tr>\n",
              "      <th>0</th>\n",
              "      <td>Write A Feature Length Screenplay For Film Or ...</td>\n",
              "      <td>Michigan State University</td>\n",
              "      <td>Beginner</td>\n",
              "      <td>4.8</td>\n",
              "      <td>https://www.coursera.org/learn/write-a-feature...</td>\n",
              "      <td>Write a Full Length Feature Film Script  In th...</td>\n",
              "      <td>Drama  Comedy  peering  screenwriting  film  D...</td>\n",
              "    </tr>\n",
              "    <tr>\n",
              "      <th>1</th>\n",
              "      <td>Business Strategy: Business Model Canvas Analy...</td>\n",
              "      <td>Coursera Project Network</td>\n",
              "      <td>Beginner</td>\n",
              "      <td>4.8</td>\n",
              "      <td>https://www.coursera.org/learn/canvas-analysis...</td>\n",
              "      <td>By the end of this guided project, you will be...</td>\n",
              "      <td>Finance  business plan  persona (user experien...</td>\n",
              "    </tr>\n",
              "    <tr>\n",
              "      <th>2</th>\n",
              "      <td>Silicon Thin Film Solar Cells</td>\n",
              "      <td>�cole Polytechnique</td>\n",
              "      <td>Advanced</td>\n",
              "      <td>4.1</td>\n",
              "      <td>https://www.coursera.org/learn/silicon-thin-fi...</td>\n",
              "      <td>This course consists of a general presentation...</td>\n",
              "      <td>chemistry  physics  Solar Energy  film  lambda...</td>\n",
              "    </tr>\n",
              "    <tr>\n",
              "      <th>3</th>\n",
              "      <td>Finance for Managers</td>\n",
              "      <td>IESE Business School</td>\n",
              "      <td>Intermediate</td>\n",
              "      <td>4.8</td>\n",
              "      <td>https://www.coursera.org/learn/operational-fin...</td>\n",
              "      <td>When it comes to numbers, there is always more...</td>\n",
              "      <td>accounts receivable  dupont analysis  analysis...</td>\n",
              "    </tr>\n",
              "    <tr>\n",
              "      <th>4</th>\n",
              "      <td>Retrieve Data using Single-Table SQL Queries</td>\n",
              "      <td>Coursera Project Network</td>\n",
              "      <td>Beginner</td>\n",
              "      <td>4.6</td>\n",
              "      <td>https://www.coursera.org/learn/single-table-sq...</td>\n",
              "      <td>In this course you�ll learn how to effectively...</td>\n",
              "      <td>Data Analysis  select (sql)  database manageme...</td>\n",
              "    </tr>\n",
              "  </tbody>\n",
              "</table>\n",
              "</div>\n",
              "    <div class=\"colab-df-buttons\">\n",
              "\n",
              "  <div class=\"colab-df-container\">\n",
              "    <button class=\"colab-df-convert\" onclick=\"convertToInteractive('df-2b15a2a9-d18d-4644-b0a6-d94bb34e71bd')\"\n",
              "            title=\"Convert this dataframe to an interactive table.\"\n",
              "            style=\"display:none;\">\n",
              "\n",
              "  <svg xmlns=\"http://www.w3.org/2000/svg\" height=\"24px\" viewBox=\"0 -960 960 960\">\n",
              "    <path d=\"M120-120v-720h720v720H120Zm60-500h600v-160H180v160Zm220 220h160v-160H400v160Zm0 220h160v-160H400v160ZM180-400h160v-160H180v160Zm440 0h160v-160H620v160ZM180-180h160v-160H180v160Zm440 0h160v-160H620v160Z\"/>\n",
              "  </svg>\n",
              "    </button>\n",
              "\n",
              "  <style>\n",
              "    .colab-df-container {\n",
              "      display:flex;\n",
              "      gap: 12px;\n",
              "    }\n",
              "\n",
              "    .colab-df-convert {\n",
              "      background-color: #E8F0FE;\n",
              "      border: none;\n",
              "      border-radius: 50%;\n",
              "      cursor: pointer;\n",
              "      display: none;\n",
              "      fill: #1967D2;\n",
              "      height: 32px;\n",
              "      padding: 0 0 0 0;\n",
              "      width: 32px;\n",
              "    }\n",
              "\n",
              "    .colab-df-convert:hover {\n",
              "      background-color: #E2EBFA;\n",
              "      box-shadow: 0px 1px 2px rgba(60, 64, 67, 0.3), 0px 1px 3px 1px rgba(60, 64, 67, 0.15);\n",
              "      fill: #174EA6;\n",
              "    }\n",
              "\n",
              "    .colab-df-buttons div {\n",
              "      margin-bottom: 4px;\n",
              "    }\n",
              "\n",
              "    [theme=dark] .colab-df-convert {\n",
              "      background-color: #3B4455;\n",
              "      fill: #D2E3FC;\n",
              "    }\n",
              "\n",
              "    [theme=dark] .colab-df-convert:hover {\n",
              "      background-color: #434B5C;\n",
              "      box-shadow: 0px 1px 3px 1px rgba(0, 0, 0, 0.15);\n",
              "      filter: drop-shadow(0px 1px 2px rgba(0, 0, 0, 0.3));\n",
              "      fill: #FFFFFF;\n",
              "    }\n",
              "  </style>\n",
              "\n",
              "    <script>\n",
              "      const buttonEl =\n",
              "        document.querySelector('#df-2b15a2a9-d18d-4644-b0a6-d94bb34e71bd button.colab-df-convert');\n",
              "      buttonEl.style.display =\n",
              "        google.colab.kernel.accessAllowed ? 'block' : 'none';\n",
              "\n",
              "      async function convertToInteractive(key) {\n",
              "        const element = document.querySelector('#df-2b15a2a9-d18d-4644-b0a6-d94bb34e71bd');\n",
              "        const dataTable =\n",
              "          await google.colab.kernel.invokeFunction('convertToInteractive',\n",
              "                                                    [key], {});\n",
              "        if (!dataTable) return;\n",
              "\n",
              "        const docLinkHtml = 'Like what you see? Visit the ' +\n",
              "          '<a target=\"_blank\" href=https://colab.research.google.com/notebooks/data_table.ipynb>data table notebook</a>'\n",
              "          + ' to learn more about interactive tables.';\n",
              "        element.innerHTML = '';\n",
              "        dataTable['output_type'] = 'display_data';\n",
              "        await google.colab.output.renderOutput(dataTable, element);\n",
              "        const docLink = document.createElement('div');\n",
              "        docLink.innerHTML = docLinkHtml;\n",
              "        element.appendChild(docLink);\n",
              "      }\n",
              "    </script>\n",
              "  </div>\n",
              "\n",
              "\n",
              "<div id=\"df-e9e70ba9-73e8-4b51-9354-b9ca267fa31a\">\n",
              "  <button class=\"colab-df-quickchart\" onclick=\"quickchart('df-e9e70ba9-73e8-4b51-9354-b9ca267fa31a')\"\n",
              "            title=\"Suggest charts\"\n",
              "            style=\"display:none;\">\n",
              "\n",
              "<svg xmlns=\"http://www.w3.org/2000/svg\" height=\"24px\"viewBox=\"0 0 24 24\"\n",
              "     width=\"24px\">\n",
              "    <g>\n",
              "        <path d=\"M19 3H5c-1.1 0-2 .9-2 2v14c0 1.1.9 2 2 2h14c1.1 0 2-.9 2-2V5c0-1.1-.9-2-2-2zM9 17H7v-7h2v7zm4 0h-2V7h2v10zm4 0h-2v-4h2v4z\"/>\n",
              "    </g>\n",
              "</svg>\n",
              "  </button>\n",
              "\n",
              "<style>\n",
              "  .colab-df-quickchart {\n",
              "      --bg-color: #E8F0FE;\n",
              "      --fill-color: #1967D2;\n",
              "      --hover-bg-color: #E2EBFA;\n",
              "      --hover-fill-color: #174EA6;\n",
              "      --disabled-fill-color: #AAA;\n",
              "      --disabled-bg-color: #DDD;\n",
              "  }\n",
              "\n",
              "  [theme=dark] .colab-df-quickchart {\n",
              "      --bg-color: #3B4455;\n",
              "      --fill-color: #D2E3FC;\n",
              "      --hover-bg-color: #434B5C;\n",
              "      --hover-fill-color: #FFFFFF;\n",
              "      --disabled-bg-color: #3B4455;\n",
              "      --disabled-fill-color: #666;\n",
              "  }\n",
              "\n",
              "  .colab-df-quickchart {\n",
              "    background-color: var(--bg-color);\n",
              "    border: none;\n",
              "    border-radius: 50%;\n",
              "    cursor: pointer;\n",
              "    display: none;\n",
              "    fill: var(--fill-color);\n",
              "    height: 32px;\n",
              "    padding: 0;\n",
              "    width: 32px;\n",
              "  }\n",
              "\n",
              "  .colab-df-quickchart:hover {\n",
              "    background-color: var(--hover-bg-color);\n",
              "    box-shadow: 0 1px 2px rgba(60, 64, 67, 0.3), 0 1px 3px 1px rgba(60, 64, 67, 0.15);\n",
              "    fill: var(--button-hover-fill-color);\n",
              "  }\n",
              "\n",
              "  .colab-df-quickchart-complete:disabled,\n",
              "  .colab-df-quickchart-complete:disabled:hover {\n",
              "    background-color: var(--disabled-bg-color);\n",
              "    fill: var(--disabled-fill-color);\n",
              "    box-shadow: none;\n",
              "  }\n",
              "\n",
              "  .colab-df-spinner {\n",
              "    border: 2px solid var(--fill-color);\n",
              "    border-color: transparent;\n",
              "    border-bottom-color: var(--fill-color);\n",
              "    animation:\n",
              "      spin 1s steps(1) infinite;\n",
              "  }\n",
              "\n",
              "  @keyframes spin {\n",
              "    0% {\n",
              "      border-color: transparent;\n",
              "      border-bottom-color: var(--fill-color);\n",
              "      border-left-color: var(--fill-color);\n",
              "    }\n",
              "    20% {\n",
              "      border-color: transparent;\n",
              "      border-left-color: var(--fill-color);\n",
              "      border-top-color: var(--fill-color);\n",
              "    }\n",
              "    30% {\n",
              "      border-color: transparent;\n",
              "      border-left-color: var(--fill-color);\n",
              "      border-top-color: var(--fill-color);\n",
              "      border-right-color: var(--fill-color);\n",
              "    }\n",
              "    40% {\n",
              "      border-color: transparent;\n",
              "      border-right-color: var(--fill-color);\n",
              "      border-top-color: var(--fill-color);\n",
              "    }\n",
              "    60% {\n",
              "      border-color: transparent;\n",
              "      border-right-color: var(--fill-color);\n",
              "    }\n",
              "    80% {\n",
              "      border-color: transparent;\n",
              "      border-right-color: var(--fill-color);\n",
              "      border-bottom-color: var(--fill-color);\n",
              "    }\n",
              "    90% {\n",
              "      border-color: transparent;\n",
              "      border-bottom-color: var(--fill-color);\n",
              "    }\n",
              "  }\n",
              "</style>\n",
              "\n",
              "  <script>\n",
              "    async function quickchart(key) {\n",
              "      const quickchartButtonEl =\n",
              "        document.querySelector('#' + key + ' button');\n",
              "      quickchartButtonEl.disabled = true;  // To prevent multiple clicks.\n",
              "      quickchartButtonEl.classList.add('colab-df-spinner');\n",
              "      try {\n",
              "        const charts = await google.colab.kernel.invokeFunction(\n",
              "            'suggestCharts', [key], {});\n",
              "      } catch (error) {\n",
              "        console.error('Error during call to suggestCharts:', error);\n",
              "      }\n",
              "      quickchartButtonEl.classList.remove('colab-df-spinner');\n",
              "      quickchartButtonEl.classList.add('colab-df-quickchart-complete');\n",
              "    }\n",
              "    (() => {\n",
              "      let quickchartButtonEl =\n",
              "        document.querySelector('#df-e9e70ba9-73e8-4b51-9354-b9ca267fa31a button');\n",
              "      quickchartButtonEl.style.display =\n",
              "        google.colab.kernel.accessAllowed ? 'block' : 'none';\n",
              "    })();\n",
              "  </script>\n",
              "</div>\n",
              "\n",
              "    </div>\n",
              "  </div>\n"
            ],
            "application/vnd.google.colaboratory.intrinsic+json": {
              "type": "dataframe",
              "variable_name": "df",
              "summary": "{\n  \"name\": \"df\",\n  \"rows\": 3522,\n  \"fields\": [\n    {\n      \"column\": \"Course Name\",\n      \"properties\": {\n        \"dtype\": \"string\",\n        \"num_unique_values\": 3416,\n        \"samples\": [\n          \"Create a Record of Students using Arrays in Java\",\n          \"Fundamentals of financial and management accounting\",\n          \"When Disaster Meets Conflict\"\n        ],\n        \"semantic_type\": \"\",\n        \"description\": \"\"\n      }\n    },\n    {\n      \"column\": \"University\",\n      \"properties\": {\n        \"dtype\": \"category\",\n        \"num_unique_values\": 184,\n        \"samples\": [\n          \"The University of Edinburgh\",\n          \"American Museum of Natural History\",\n          \"Alibaba Cloud Academy\"\n        ],\n        \"semantic_type\": \"\",\n        \"description\": \"\"\n      }\n    },\n    {\n      \"column\": \"Difficulty Level\",\n      \"properties\": {\n        \"dtype\": \"category\",\n        \"num_unique_values\": 5,\n        \"samples\": [\n          \"Advanced\",\n          \"Conversant\",\n          \"Intermediate\"\n        ],\n        \"semantic_type\": \"\",\n        \"description\": \"\"\n      }\n    },\n    {\n      \"column\": \"Course Rating\",\n      \"properties\": {\n        \"dtype\": \"category\",\n        \"num_unique_values\": 31,\n        \"samples\": [\n          \"2.4\",\n          \"3.7\",\n          \"2\"\n        ],\n        \"semantic_type\": \"\",\n        \"description\": \"\"\n      }\n    },\n    {\n      \"column\": \"Course URL\",\n      \"properties\": {\n        \"dtype\": \"string\",\n        \"num_unique_values\": 3424,\n        \"samples\": [\n          \"https://www.coursera.org/learn/city-and-you-find-best-place\",\n          \"https://www.coursera.org/learn/user-research\",\n          \"https://www.coursera.org/learn/people-management\"\n        ],\n        \"semantic_type\": \"\",\n        \"description\": \"\"\n      }\n    },\n    {\n      \"column\": \"Course Description\",\n      \"properties\": {\n        \"dtype\": \"string\",\n        \"num_unique_values\": 3397,\n        \"samples\": [\n          \"This course can also be taken for academic credit as ECEA 5317, part of CU Boulder\\ufffds Master of Science in Electrical Engineering degree.  Upon completion of this course the learner will know the difference between systems you can bet your life on (mission critical) and those which provide predictable response and quality of service (reliable).  This will be achieved not only by study of design methods and patterns for mission critical systems, but also through implementation of soft real-time systems and comparison to hard real-time.  Methods of verification to determine ability to meet mission critical as well as soft real-time requirements will be learned so that the learner can properly assess risk, reliability and impact of failure in real-time systems.  At the end of this course learners will be able to apply an architectural style (cyclic executive, RTOS, or embedded Linux) to more detailed design of a mission critical system, a soft real-time system, or a mixed hard and soft real-time system, including:  ?\\\\tThorough understanding of hardware/software device interfaces and resource view for hardware abstraction layers (HAL, BSP) ?\\\\tDesign trade-offs with different real-time hardware architectures including single core, multi-core, hybrid-FPGA, GP-GPU, and DSP systems, with emphasis on multi-core ?\\\\tMission critical embedded systems architecture and key design elements ?\\\\tFault tolerant processing, memory, and I/O concepts\",\n          \"Financial Accounting is often called the language of business; it is the language that managers use to communicate the firm's financial and economic information to external parties such as shareholders and creditors. Nobody working in business can afford financial illiteracy. Whether you run your own business, work as a manager or are just starting your career, you want to understand financial information and be able to interact with accountants, controllers, and financial managers. You want to talk business!   This course will provide you with the accounting language's essentials. Upon completion, you should be able to read and interpret financial statements for business diagnosis and decision-making. More importantly, you will possess the conceptual base to keep learning more sophisticated accounting and finance on your own. Do not forget that, as with any other language, becoming proficient with accounting requires constant practice.\",\n          \"Build on the software engineering skills you learned in \\ufffdJava Programming: Solving Problems with Software\\ufffd by learning new data structures. Use these data structures to build more complex programs that use Java\\ufffds object-oriented features. At the end of the course you will write an encryption program and a program to break your encryption algorithm.  After completing this course, you will be able to: 1. Read and write data from/to files; 2. Solve problems involving data files; 3. Perform quantitative analyses of data (e.g., finding maximums, minimums, averages);  4. Store and manipulate data in an array or ArrayList; 5. Combine multiple classes to solve larger problems; 6. Use iterables and collections (including maps) in Java.\"\n        ],\n        \"semantic_type\": \"\",\n        \"description\": \"\"\n      }\n    },\n    {\n      \"column\": \"Skills\",\n      \"properties\": {\n        \"dtype\": \"string\",\n        \"num_unique_values\": 3424,\n        \"samples\": [\n          \"economy  pandemic  global city  financial centre  crisis  global  curiosity  slum  emerging markets  Creativity social-sciences governance-and-society\",\n          \"i-deas  User Experience  Human Computer Interaction  thought  Map  experience  interview  interaction design  persona (user experience)  User Research computer-science design-and-product\",\n          \"Leadership and Management  organizational conflict  leadership  Human Resources  conflict resolution  performance appraisal  Conflict Management  interview  Performance Management  performance business leadership-and-management\"\n        ],\n        \"semantic_type\": \"\",\n        \"description\": \"\"\n      }\n    }\n  ]\n}"
            }
          },
          "metadata": {},
          "execution_count": 4
        }
      ]
    },
    {
      "cell_type": "markdown",
      "source": [
        "### Mencari ukuran dataset:"
      ],
      "metadata": {
        "id": "mRotX2F_zMKK"
      }
    },
    {
      "cell_type": "code",
      "source": [
        "print(\"Size of dataset: \", df.shape)"
      ],
      "metadata": {
        "colab": {
          "base_uri": "https://localhost:8080/"
        },
        "id": "2wdZUGIPa8hZ",
        "outputId": "93e2e21a-7195-4c85-8dbf-468c1141ad8f"
      },
      "execution_count": 5,
      "outputs": [
        {
          "output_type": "stream",
          "name": "stdout",
          "text": [
            "Size of dataset:  (3522, 7)\n"
          ]
        }
      ]
    },
    {
      "cell_type": "markdown",
      "source": [
        "### Mencari jumlah baris yang ada duplikasi dengan baris yang lain:"
      ],
      "metadata": {
        "id": "yQHZERSOzTUq"
      }
    },
    {
      "cell_type": "code",
      "source": [
        "print(\"Number of duplicated rows: \", df.duplicated().sum())"
      ],
      "metadata": {
        "colab": {
          "base_uri": "https://localhost:8080/"
        },
        "id": "Zg5Xjvfta_BA",
        "outputId": "8c5e2217-f1a6-44ca-866e-9ca66d0e2022"
      },
      "execution_count": 6,
      "outputs": [
        {
          "output_type": "stream",
          "name": "stdout",
          "text": [
            "Number of duplicated rows:  98\n"
          ]
        }
      ]
    },
    {
      "cell_type": "markdown",
      "source": [
        "### Menampilkan tipe data setiap kolom pada dataset \"df\":"
      ],
      "metadata": {
        "id": "GgNIKQwY3nAO"
      }
    },
    {
      "cell_type": "code",
      "source": [
        "df.info()"
      ],
      "metadata": {
        "colab": {
          "base_uri": "https://localhost:8080/"
        },
        "id": "cp-NhOhbbBM5",
        "outputId": "0f7aef75-1199-4803-8a39-3460c483ef1f"
      },
      "execution_count": 7,
      "outputs": [
        {
          "output_type": "stream",
          "name": "stdout",
          "text": [
            "<class 'pandas.core.frame.DataFrame'>\n",
            "RangeIndex: 3522 entries, 0 to 3521\n",
            "Data columns (total 7 columns):\n",
            " #   Column              Non-Null Count  Dtype \n",
            "---  ------              --------------  ----- \n",
            " 0   Course Name         3522 non-null   object\n",
            " 1   University          3522 non-null   object\n",
            " 2   Difficulty Level    3522 non-null   object\n",
            " 3   Course Rating       3522 non-null   object\n",
            " 4   Course URL          3522 non-null   object\n",
            " 5   Course Description  3522 non-null   object\n",
            " 6   Skills              3522 non-null   object\n",
            "dtypes: object(7)\n",
            "memory usage: 192.7+ KB\n"
          ]
        }
      ]
    },
    {
      "cell_type": "markdown",
      "source": [
        "### Pengecekan jumlah variabel yang bernilai Null"
      ],
      "metadata": {
        "id": "kyZtIkGs4F8F"
      }
    },
    {
      "cell_type": "code",
      "source": [
        "df.isnull().sum()"
      ],
      "metadata": {
        "colab": {
          "base_uri": "https://localhost:8080/",
          "height": 303
        },
        "id": "p7U78tVn4Aos",
        "outputId": "4240bcf5-0d72-4713-96cb-7f62c2153164"
      },
      "execution_count": 8,
      "outputs": [
        {
          "output_type": "execute_result",
          "data": {
            "text/plain": [
              "Course Name           0\n",
              "University            0\n",
              "Difficulty Level      0\n",
              "Course Rating         0\n",
              "Course URL            0\n",
              "Course Description    0\n",
              "Skills                0\n",
              "dtype: int64"
            ],
            "text/html": [
              "<div>\n",
              "<style scoped>\n",
              "    .dataframe tbody tr th:only-of-type {\n",
              "        vertical-align: middle;\n",
              "    }\n",
              "\n",
              "    .dataframe tbody tr th {\n",
              "        vertical-align: top;\n",
              "    }\n",
              "\n",
              "    .dataframe thead th {\n",
              "        text-align: right;\n",
              "    }\n",
              "</style>\n",
              "<table border=\"1\" class=\"dataframe\">\n",
              "  <thead>\n",
              "    <tr style=\"text-align: right;\">\n",
              "      <th></th>\n",
              "      <th>0</th>\n",
              "    </tr>\n",
              "  </thead>\n",
              "  <tbody>\n",
              "    <tr>\n",
              "      <th>Course Name</th>\n",
              "      <td>0</td>\n",
              "    </tr>\n",
              "    <tr>\n",
              "      <th>University</th>\n",
              "      <td>0</td>\n",
              "    </tr>\n",
              "    <tr>\n",
              "      <th>Difficulty Level</th>\n",
              "      <td>0</td>\n",
              "    </tr>\n",
              "    <tr>\n",
              "      <th>Course Rating</th>\n",
              "      <td>0</td>\n",
              "    </tr>\n",
              "    <tr>\n",
              "      <th>Course URL</th>\n",
              "      <td>0</td>\n",
              "    </tr>\n",
              "    <tr>\n",
              "      <th>Course Description</th>\n",
              "      <td>0</td>\n",
              "    </tr>\n",
              "    <tr>\n",
              "      <th>Skills</th>\n",
              "      <td>0</td>\n",
              "    </tr>\n",
              "  </tbody>\n",
              "</table>\n",
              "</div><br><label><b>dtype:</b> int64</label>"
            ]
          },
          "metadata": {},
          "execution_count": 8
        }
      ]
    },
    {
      "cell_type": "markdown",
      "source": [
        "### Melihat statistik dataset:"
      ],
      "metadata": {
        "id": "OneTe9Xq4ch8"
      }
    },
    {
      "cell_type": "code",
      "source": [
        "df.describe()"
      ],
      "metadata": {
        "colab": {
          "base_uri": "https://localhost:8080/",
          "height": 209
        },
        "id": "lINmpEJm4XQ2",
        "outputId": "bebadbb1-3616-4671-f520-c192ed3906eb"
      },
      "execution_count": 9,
      "outputs": [
        {
          "output_type": "execute_result",
          "data": {
            "text/plain": [
              "                                              Course Name  \\\n",
              "count                                                3522   \n",
              "unique                                               3416   \n",
              "top     Google Cloud Platform Fundamentals: Core Infra...   \n",
              "freq                                                    8   \n",
              "\n",
              "                      University Difficulty Level Course Rating  \\\n",
              "count                       3522             3522          3522   \n",
              "unique                       184                5            31   \n",
              "top     Coursera Project Network         Beginner           4.7   \n",
              "freq                         562             1444           740   \n",
              "\n",
              "                                             Course URL  \\\n",
              "count                                              3522   \n",
              "unique                                             3424   \n",
              "top     https://www.coursera.org/learn/gcp-fundamentals   \n",
              "freq                                                  8   \n",
              "\n",
              "                                       Course Description  \\\n",
              "count                                                3522   \n",
              "unique                                               3397   \n",
              "top     This course introduces you to important concep...   \n",
              "freq                                                    8   \n",
              "\n",
              "                                                   Skills  \n",
              "count                                                3522  \n",
              "unique                                               3424  \n",
              "top     Google Cloud Platform  Big Data  Cloud Infrast...  \n",
              "freq                                                    8  "
            ],
            "text/html": [
              "\n",
              "  <div id=\"df-cf4e4eb7-6a60-4947-80fa-4a0fd076ee60\" class=\"colab-df-container\">\n",
              "    <div>\n",
              "<style scoped>\n",
              "    .dataframe tbody tr th:only-of-type {\n",
              "        vertical-align: middle;\n",
              "    }\n",
              "\n",
              "    .dataframe tbody tr th {\n",
              "        vertical-align: top;\n",
              "    }\n",
              "\n",
              "    .dataframe thead th {\n",
              "        text-align: right;\n",
              "    }\n",
              "</style>\n",
              "<table border=\"1\" class=\"dataframe\">\n",
              "  <thead>\n",
              "    <tr style=\"text-align: right;\">\n",
              "      <th></th>\n",
              "      <th>Course Name</th>\n",
              "      <th>University</th>\n",
              "      <th>Difficulty Level</th>\n",
              "      <th>Course Rating</th>\n",
              "      <th>Course URL</th>\n",
              "      <th>Course Description</th>\n",
              "      <th>Skills</th>\n",
              "    </tr>\n",
              "  </thead>\n",
              "  <tbody>\n",
              "    <tr>\n",
              "      <th>count</th>\n",
              "      <td>3522</td>\n",
              "      <td>3522</td>\n",
              "      <td>3522</td>\n",
              "      <td>3522</td>\n",
              "      <td>3522</td>\n",
              "      <td>3522</td>\n",
              "      <td>3522</td>\n",
              "    </tr>\n",
              "    <tr>\n",
              "      <th>unique</th>\n",
              "      <td>3416</td>\n",
              "      <td>184</td>\n",
              "      <td>5</td>\n",
              "      <td>31</td>\n",
              "      <td>3424</td>\n",
              "      <td>3397</td>\n",
              "      <td>3424</td>\n",
              "    </tr>\n",
              "    <tr>\n",
              "      <th>top</th>\n",
              "      <td>Google Cloud Platform Fundamentals: Core Infra...</td>\n",
              "      <td>Coursera Project Network</td>\n",
              "      <td>Beginner</td>\n",
              "      <td>4.7</td>\n",
              "      <td>https://www.coursera.org/learn/gcp-fundamentals</td>\n",
              "      <td>This course introduces you to important concep...</td>\n",
              "      <td>Google Cloud Platform  Big Data  Cloud Infrast...</td>\n",
              "    </tr>\n",
              "    <tr>\n",
              "      <th>freq</th>\n",
              "      <td>8</td>\n",
              "      <td>562</td>\n",
              "      <td>1444</td>\n",
              "      <td>740</td>\n",
              "      <td>8</td>\n",
              "      <td>8</td>\n",
              "      <td>8</td>\n",
              "    </tr>\n",
              "  </tbody>\n",
              "</table>\n",
              "</div>\n",
              "    <div class=\"colab-df-buttons\">\n",
              "\n",
              "  <div class=\"colab-df-container\">\n",
              "    <button class=\"colab-df-convert\" onclick=\"convertToInteractive('df-cf4e4eb7-6a60-4947-80fa-4a0fd076ee60')\"\n",
              "            title=\"Convert this dataframe to an interactive table.\"\n",
              "            style=\"display:none;\">\n",
              "\n",
              "  <svg xmlns=\"http://www.w3.org/2000/svg\" height=\"24px\" viewBox=\"0 -960 960 960\">\n",
              "    <path d=\"M120-120v-720h720v720H120Zm60-500h600v-160H180v160Zm220 220h160v-160H400v160Zm0 220h160v-160H400v160ZM180-400h160v-160H180v160Zm440 0h160v-160H620v160ZM180-180h160v-160H180v160Zm440 0h160v-160H620v160Z\"/>\n",
              "  </svg>\n",
              "    </button>\n",
              "\n",
              "  <style>\n",
              "    .colab-df-container {\n",
              "      display:flex;\n",
              "      gap: 12px;\n",
              "    }\n",
              "\n",
              "    .colab-df-convert {\n",
              "      background-color: #E8F0FE;\n",
              "      border: none;\n",
              "      border-radius: 50%;\n",
              "      cursor: pointer;\n",
              "      display: none;\n",
              "      fill: #1967D2;\n",
              "      height: 32px;\n",
              "      padding: 0 0 0 0;\n",
              "      width: 32px;\n",
              "    }\n",
              "\n",
              "    .colab-df-convert:hover {\n",
              "      background-color: #E2EBFA;\n",
              "      box-shadow: 0px 1px 2px rgba(60, 64, 67, 0.3), 0px 1px 3px 1px rgba(60, 64, 67, 0.15);\n",
              "      fill: #174EA6;\n",
              "    }\n",
              "\n",
              "    .colab-df-buttons div {\n",
              "      margin-bottom: 4px;\n",
              "    }\n",
              "\n",
              "    [theme=dark] .colab-df-convert {\n",
              "      background-color: #3B4455;\n",
              "      fill: #D2E3FC;\n",
              "    }\n",
              "\n",
              "    [theme=dark] .colab-df-convert:hover {\n",
              "      background-color: #434B5C;\n",
              "      box-shadow: 0px 1px 3px 1px rgba(0, 0, 0, 0.15);\n",
              "      filter: drop-shadow(0px 1px 2px rgba(0, 0, 0, 0.3));\n",
              "      fill: #FFFFFF;\n",
              "    }\n",
              "  </style>\n",
              "\n",
              "    <script>\n",
              "      const buttonEl =\n",
              "        document.querySelector('#df-cf4e4eb7-6a60-4947-80fa-4a0fd076ee60 button.colab-df-convert');\n",
              "      buttonEl.style.display =\n",
              "        google.colab.kernel.accessAllowed ? 'block' : 'none';\n",
              "\n",
              "      async function convertToInteractive(key) {\n",
              "        const element = document.querySelector('#df-cf4e4eb7-6a60-4947-80fa-4a0fd076ee60');\n",
              "        const dataTable =\n",
              "          await google.colab.kernel.invokeFunction('convertToInteractive',\n",
              "                                                    [key], {});\n",
              "        if (!dataTable) return;\n",
              "\n",
              "        const docLinkHtml = 'Like what you see? Visit the ' +\n",
              "          '<a target=\"_blank\" href=https://colab.research.google.com/notebooks/data_table.ipynb>data table notebook</a>'\n",
              "          + ' to learn more about interactive tables.';\n",
              "        element.innerHTML = '';\n",
              "        dataTable['output_type'] = 'display_data';\n",
              "        await google.colab.output.renderOutput(dataTable, element);\n",
              "        const docLink = document.createElement('div');\n",
              "        docLink.innerHTML = docLinkHtml;\n",
              "        element.appendChild(docLink);\n",
              "      }\n",
              "    </script>\n",
              "  </div>\n",
              "\n",
              "\n",
              "<div id=\"df-1d3edc26-aa1e-42e8-8533-2677ffdafc91\">\n",
              "  <button class=\"colab-df-quickchart\" onclick=\"quickchart('df-1d3edc26-aa1e-42e8-8533-2677ffdafc91')\"\n",
              "            title=\"Suggest charts\"\n",
              "            style=\"display:none;\">\n",
              "\n",
              "<svg xmlns=\"http://www.w3.org/2000/svg\" height=\"24px\"viewBox=\"0 0 24 24\"\n",
              "     width=\"24px\">\n",
              "    <g>\n",
              "        <path d=\"M19 3H5c-1.1 0-2 .9-2 2v14c0 1.1.9 2 2 2h14c1.1 0 2-.9 2-2V5c0-1.1-.9-2-2-2zM9 17H7v-7h2v7zm4 0h-2V7h2v10zm4 0h-2v-4h2v4z\"/>\n",
              "    </g>\n",
              "</svg>\n",
              "  </button>\n",
              "\n",
              "<style>\n",
              "  .colab-df-quickchart {\n",
              "      --bg-color: #E8F0FE;\n",
              "      --fill-color: #1967D2;\n",
              "      --hover-bg-color: #E2EBFA;\n",
              "      --hover-fill-color: #174EA6;\n",
              "      --disabled-fill-color: #AAA;\n",
              "      --disabled-bg-color: #DDD;\n",
              "  }\n",
              "\n",
              "  [theme=dark] .colab-df-quickchart {\n",
              "      --bg-color: #3B4455;\n",
              "      --fill-color: #D2E3FC;\n",
              "      --hover-bg-color: #434B5C;\n",
              "      --hover-fill-color: #FFFFFF;\n",
              "      --disabled-bg-color: #3B4455;\n",
              "      --disabled-fill-color: #666;\n",
              "  }\n",
              "\n",
              "  .colab-df-quickchart {\n",
              "    background-color: var(--bg-color);\n",
              "    border: none;\n",
              "    border-radius: 50%;\n",
              "    cursor: pointer;\n",
              "    display: none;\n",
              "    fill: var(--fill-color);\n",
              "    height: 32px;\n",
              "    padding: 0;\n",
              "    width: 32px;\n",
              "  }\n",
              "\n",
              "  .colab-df-quickchart:hover {\n",
              "    background-color: var(--hover-bg-color);\n",
              "    box-shadow: 0 1px 2px rgba(60, 64, 67, 0.3), 0 1px 3px 1px rgba(60, 64, 67, 0.15);\n",
              "    fill: var(--button-hover-fill-color);\n",
              "  }\n",
              "\n",
              "  .colab-df-quickchart-complete:disabled,\n",
              "  .colab-df-quickchart-complete:disabled:hover {\n",
              "    background-color: var(--disabled-bg-color);\n",
              "    fill: var(--disabled-fill-color);\n",
              "    box-shadow: none;\n",
              "  }\n",
              "\n",
              "  .colab-df-spinner {\n",
              "    border: 2px solid var(--fill-color);\n",
              "    border-color: transparent;\n",
              "    border-bottom-color: var(--fill-color);\n",
              "    animation:\n",
              "      spin 1s steps(1) infinite;\n",
              "  }\n",
              "\n",
              "  @keyframes spin {\n",
              "    0% {\n",
              "      border-color: transparent;\n",
              "      border-bottom-color: var(--fill-color);\n",
              "      border-left-color: var(--fill-color);\n",
              "    }\n",
              "    20% {\n",
              "      border-color: transparent;\n",
              "      border-left-color: var(--fill-color);\n",
              "      border-top-color: var(--fill-color);\n",
              "    }\n",
              "    30% {\n",
              "      border-color: transparent;\n",
              "      border-left-color: var(--fill-color);\n",
              "      border-top-color: var(--fill-color);\n",
              "      border-right-color: var(--fill-color);\n",
              "    }\n",
              "    40% {\n",
              "      border-color: transparent;\n",
              "      border-right-color: var(--fill-color);\n",
              "      border-top-color: var(--fill-color);\n",
              "    }\n",
              "    60% {\n",
              "      border-color: transparent;\n",
              "      border-right-color: var(--fill-color);\n",
              "    }\n",
              "    80% {\n",
              "      border-color: transparent;\n",
              "      border-right-color: var(--fill-color);\n",
              "      border-bottom-color: var(--fill-color);\n",
              "    }\n",
              "    90% {\n",
              "      border-color: transparent;\n",
              "      border-bottom-color: var(--fill-color);\n",
              "    }\n",
              "  }\n",
              "</style>\n",
              "\n",
              "  <script>\n",
              "    async function quickchart(key) {\n",
              "      const quickchartButtonEl =\n",
              "        document.querySelector('#' + key + ' button');\n",
              "      quickchartButtonEl.disabled = true;  // To prevent multiple clicks.\n",
              "      quickchartButtonEl.classList.add('colab-df-spinner');\n",
              "      try {\n",
              "        const charts = await google.colab.kernel.invokeFunction(\n",
              "            'suggestCharts', [key], {});\n",
              "      } catch (error) {\n",
              "        console.error('Error during call to suggestCharts:', error);\n",
              "      }\n",
              "      quickchartButtonEl.classList.remove('colab-df-spinner');\n",
              "      quickchartButtonEl.classList.add('colab-df-quickchart-complete');\n",
              "    }\n",
              "    (() => {\n",
              "      let quickchartButtonEl =\n",
              "        document.querySelector('#df-1d3edc26-aa1e-42e8-8533-2677ffdafc91 button');\n",
              "      quickchartButtonEl.style.display =\n",
              "        google.colab.kernel.accessAllowed ? 'block' : 'none';\n",
              "    })();\n",
              "  </script>\n",
              "</div>\n",
              "\n",
              "    </div>\n",
              "  </div>\n"
            ],
            "application/vnd.google.colaboratory.intrinsic+json": {
              "type": "dataframe",
              "summary": "{\n  \"name\": \"df\",\n  \"rows\": 4,\n  \"fields\": [\n    {\n      \"column\": \"Course Name\",\n      \"properties\": {\n        \"dtype\": \"string\",\n        \"num_unique_values\": 4,\n        \"samples\": [\n          3416,\n          \"8\",\n          \"3522\"\n        ],\n        \"semantic_type\": \"\",\n        \"description\": \"\"\n      }\n    },\n    {\n      \"column\": \"University\",\n      \"properties\": {\n        \"dtype\": \"string\",\n        \"num_unique_values\": 4,\n        \"samples\": [\n          184,\n          \"562\",\n          \"3522\"\n        ],\n        \"semantic_type\": \"\",\n        \"description\": \"\"\n      }\n    },\n    {\n      \"column\": \"Difficulty Level\",\n      \"properties\": {\n        \"dtype\": \"string\",\n        \"num_unique_values\": 4,\n        \"samples\": [\n          5,\n          \"1444\",\n          \"3522\"\n        ],\n        \"semantic_type\": \"\",\n        \"description\": \"\"\n      }\n    },\n    {\n      \"column\": \"Course Rating\",\n      \"properties\": {\n        \"dtype\": \"string\",\n        \"num_unique_values\": 4,\n        \"samples\": [\n          31,\n          \"740\",\n          \"3522\"\n        ],\n        \"semantic_type\": \"\",\n        \"description\": \"\"\n      }\n    },\n    {\n      \"column\": \"Course URL\",\n      \"properties\": {\n        \"dtype\": \"string\",\n        \"num_unique_values\": 4,\n        \"samples\": [\n          3424,\n          \"8\",\n          \"3522\"\n        ],\n        \"semantic_type\": \"\",\n        \"description\": \"\"\n      }\n    },\n    {\n      \"column\": \"Course Description\",\n      \"properties\": {\n        \"dtype\": \"string\",\n        \"num_unique_values\": 4,\n        \"samples\": [\n          3397,\n          \"8\",\n          \"3522\"\n        ],\n        \"semantic_type\": \"\",\n        \"description\": \"\"\n      }\n    },\n    {\n      \"column\": \"Skills\",\n      \"properties\": {\n        \"dtype\": \"string\",\n        \"num_unique_values\": 4,\n        \"samples\": [\n          3424,\n          \"8\",\n          \"3522\"\n        ],\n        \"semantic_type\": \"\",\n        \"description\": \"\"\n      }\n    }\n  ]\n}"
            }
          },
          "metadata": {},
          "execution_count": 9
        }
      ]
    },
    {
      "cell_type": "markdown",
      "source": [
        "## Data Preparation"
      ],
      "metadata": {
        "id": "SY6jiqlCqxTG"
      }
    },
    {
      "cell_type": "markdown",
      "source": [
        "### Menghilangkan baris yang terdapat duplikasi dengan baris lain"
      ],
      "metadata": {
        "id": "Vv-q8ByQ46Mh"
      }
    },
    {
      "cell_type": "code",
      "source": [
        "df.drop_duplicates(inplace=True)"
      ],
      "metadata": {
        "id": "hh_552Hbq0FT"
      },
      "execution_count": 10,
      "outputs": []
    },
    {
      "cell_type": "markdown",
      "source": [
        "### Membuat suatu fungsi untuk mengganti nama kolom pada suatu dataset"
      ],
      "metadata": {
        "id": "34OA6KDW8z7i"
      }
    },
    {
      "cell_type": "code",
      "source": [
        "def rename_col(col_name):\n",
        "    col_name = col_name.split(' ')\n",
        "    col_name = '_'.join(col_name)\n",
        "    return col_name"
      ],
      "metadata": {
        "id": "782axAYTq8WF"
      },
      "execution_count": 12,
      "outputs": []
    },
    {
      "cell_type": "markdown",
      "source": [
        "### Menampilkan nama kolom sebelum rename, melakukan renama nama kolom dan menampilkan nama kolom setelah rename:"
      ],
      "metadata": {
        "id": "CipksSth89Fi"
      }
    },
    {
      "cell_type": "code",
      "source": [
        "print(\"Columns names before renaming: \", df.columns.to_list())\n",
        "df.columns = [rename_col(col) for col in df.columns]\n",
        "print(\"Columns names after renaming: \", df.columns.to_list())"
      ],
      "metadata": {
        "colab": {
          "base_uri": "https://localhost:8080/"
        },
        "id": "YNJy2_6Pq-fW",
        "outputId": "0c13634e-4db2-4f3f-941b-1088eafee891"
      },
      "execution_count": 13,
      "outputs": [
        {
          "output_type": "stream",
          "name": "stdout",
          "text": [
            "Columns names before renaming:  ['Course Name', 'University', 'Difficulty Level', 'Course Rating', 'Course URL', 'Course Description', 'Skills']\n",
            "Columns names after renaming:  ['Course_Name', 'University', 'Difficulty_Level', 'Course_Rating', 'Course_URL', 'Course_Description', 'Skills']\n"
          ]
        }
      ]
    },
    {
      "cell_type": "markdown",
      "source": [
        "### Feature selection"
      ],
      "metadata": {
        "id": "GaetA9iYrK7m"
      }
    },
    {
      "cell_type": "markdown",
      "source": [
        "### Mendefinisikan feature yang dipilih"
      ],
      "metadata": {
        "id": "jysLQLzu-1fT"
      }
    },
    {
      "cell_type": "code",
      "source": [
        "features_selected = [\"Course_Name\", \"Course_Description\", \"Skills\", \"Difficulty_Level\"]"
      ],
      "metadata": {
        "id": "JYwivQkZq-b-"
      },
      "execution_count": 14,
      "outputs": []
    },
    {
      "cell_type": "markdown",
      "source": [
        "### membuat dataset baru yang memiliki kolom sesuai feature yang dipilih"
      ],
      "metadata": {
        "id": "r0nji9MI-7fb"
      }
    },
    {
      "cell_type": "code",
      "source": [
        "new_df = df[features_selected]\n",
        "new_df.head()"
      ],
      "metadata": {
        "colab": {
          "base_uri": "https://localhost:8080/",
          "height": 206
        },
        "id": "sjSGi-THq-Yv",
        "outputId": "b8483095-4ace-497b-eb9b-24882169b3c5"
      },
      "execution_count": 15,
      "outputs": [
        {
          "output_type": "execute_result",
          "data": {
            "text/plain": [
              "                                         Course_Name  \\\n",
              "0  Write A Feature Length Screenplay For Film Or ...   \n",
              "1  Business Strategy: Business Model Canvas Analy...   \n",
              "2                      Silicon Thin Film Solar Cells   \n",
              "3                               Finance for Managers   \n",
              "4       Retrieve Data using Single-Table SQL Queries   \n",
              "\n",
              "                                  Course_Description  \\\n",
              "0  Write a Full Length Feature Film Script  In th...   \n",
              "1  By the end of this guided project, you will be...   \n",
              "2  This course consists of a general presentation...   \n",
              "3  When it comes to numbers, there is always more...   \n",
              "4  In this course you�ll learn how to effectively...   \n",
              "\n",
              "                                              Skills Difficulty_Level  \n",
              "0  Drama  Comedy  peering  screenwriting  film  D...         Beginner  \n",
              "1  Finance  business plan  persona (user experien...         Beginner  \n",
              "2  chemistry  physics  Solar Energy  film  lambda...         Advanced  \n",
              "3  accounts receivable  dupont analysis  analysis...     Intermediate  \n",
              "4  Data Analysis  select (sql)  database manageme...         Beginner  "
            ],
            "text/html": [
              "\n",
              "  <div id=\"df-034f51cb-ac96-4ffb-8749-b713cd14b362\" class=\"colab-df-container\">\n",
              "    <div>\n",
              "<style scoped>\n",
              "    .dataframe tbody tr th:only-of-type {\n",
              "        vertical-align: middle;\n",
              "    }\n",
              "\n",
              "    .dataframe tbody tr th {\n",
              "        vertical-align: top;\n",
              "    }\n",
              "\n",
              "    .dataframe thead th {\n",
              "        text-align: right;\n",
              "    }\n",
              "</style>\n",
              "<table border=\"1\" class=\"dataframe\">\n",
              "  <thead>\n",
              "    <tr style=\"text-align: right;\">\n",
              "      <th></th>\n",
              "      <th>Course_Name</th>\n",
              "      <th>Course_Description</th>\n",
              "      <th>Skills</th>\n",
              "      <th>Difficulty_Level</th>\n",
              "    </tr>\n",
              "  </thead>\n",
              "  <tbody>\n",
              "    <tr>\n",
              "      <th>0</th>\n",
              "      <td>Write A Feature Length Screenplay For Film Or ...</td>\n",
              "      <td>Write a Full Length Feature Film Script  In th...</td>\n",
              "      <td>Drama  Comedy  peering  screenwriting  film  D...</td>\n",
              "      <td>Beginner</td>\n",
              "    </tr>\n",
              "    <tr>\n",
              "      <th>1</th>\n",
              "      <td>Business Strategy: Business Model Canvas Analy...</td>\n",
              "      <td>By the end of this guided project, you will be...</td>\n",
              "      <td>Finance  business plan  persona (user experien...</td>\n",
              "      <td>Beginner</td>\n",
              "    </tr>\n",
              "    <tr>\n",
              "      <th>2</th>\n",
              "      <td>Silicon Thin Film Solar Cells</td>\n",
              "      <td>This course consists of a general presentation...</td>\n",
              "      <td>chemistry  physics  Solar Energy  film  lambda...</td>\n",
              "      <td>Advanced</td>\n",
              "    </tr>\n",
              "    <tr>\n",
              "      <th>3</th>\n",
              "      <td>Finance for Managers</td>\n",
              "      <td>When it comes to numbers, there is always more...</td>\n",
              "      <td>accounts receivable  dupont analysis  analysis...</td>\n",
              "      <td>Intermediate</td>\n",
              "    </tr>\n",
              "    <tr>\n",
              "      <th>4</th>\n",
              "      <td>Retrieve Data using Single-Table SQL Queries</td>\n",
              "      <td>In this course you�ll learn how to effectively...</td>\n",
              "      <td>Data Analysis  select (sql)  database manageme...</td>\n",
              "      <td>Beginner</td>\n",
              "    </tr>\n",
              "  </tbody>\n",
              "</table>\n",
              "</div>\n",
              "    <div class=\"colab-df-buttons\">\n",
              "\n",
              "  <div class=\"colab-df-container\">\n",
              "    <button class=\"colab-df-convert\" onclick=\"convertToInteractive('df-034f51cb-ac96-4ffb-8749-b713cd14b362')\"\n",
              "            title=\"Convert this dataframe to an interactive table.\"\n",
              "            style=\"display:none;\">\n",
              "\n",
              "  <svg xmlns=\"http://www.w3.org/2000/svg\" height=\"24px\" viewBox=\"0 -960 960 960\">\n",
              "    <path d=\"M120-120v-720h720v720H120Zm60-500h600v-160H180v160Zm220 220h160v-160H400v160Zm0 220h160v-160H400v160ZM180-400h160v-160H180v160Zm440 0h160v-160H620v160ZM180-180h160v-160H180v160Zm440 0h160v-160H620v160Z\"/>\n",
              "  </svg>\n",
              "    </button>\n",
              "\n",
              "  <style>\n",
              "    .colab-df-container {\n",
              "      display:flex;\n",
              "      gap: 12px;\n",
              "    }\n",
              "\n",
              "    .colab-df-convert {\n",
              "      background-color: #E8F0FE;\n",
              "      border: none;\n",
              "      border-radius: 50%;\n",
              "      cursor: pointer;\n",
              "      display: none;\n",
              "      fill: #1967D2;\n",
              "      height: 32px;\n",
              "      padding: 0 0 0 0;\n",
              "      width: 32px;\n",
              "    }\n",
              "\n",
              "    .colab-df-convert:hover {\n",
              "      background-color: #E2EBFA;\n",
              "      box-shadow: 0px 1px 2px rgba(60, 64, 67, 0.3), 0px 1px 3px 1px rgba(60, 64, 67, 0.15);\n",
              "      fill: #174EA6;\n",
              "    }\n",
              "\n",
              "    .colab-df-buttons div {\n",
              "      margin-bottom: 4px;\n",
              "    }\n",
              "\n",
              "    [theme=dark] .colab-df-convert {\n",
              "      background-color: #3B4455;\n",
              "      fill: #D2E3FC;\n",
              "    }\n",
              "\n",
              "    [theme=dark] .colab-df-convert:hover {\n",
              "      background-color: #434B5C;\n",
              "      box-shadow: 0px 1px 3px 1px rgba(0, 0, 0, 0.15);\n",
              "      filter: drop-shadow(0px 1px 2px rgba(0, 0, 0, 0.3));\n",
              "      fill: #FFFFFF;\n",
              "    }\n",
              "  </style>\n",
              "\n",
              "    <script>\n",
              "      const buttonEl =\n",
              "        document.querySelector('#df-034f51cb-ac96-4ffb-8749-b713cd14b362 button.colab-df-convert');\n",
              "      buttonEl.style.display =\n",
              "        google.colab.kernel.accessAllowed ? 'block' : 'none';\n",
              "\n",
              "      async function convertToInteractive(key) {\n",
              "        const element = document.querySelector('#df-034f51cb-ac96-4ffb-8749-b713cd14b362');\n",
              "        const dataTable =\n",
              "          await google.colab.kernel.invokeFunction('convertToInteractive',\n",
              "                                                    [key], {});\n",
              "        if (!dataTable) return;\n",
              "\n",
              "        const docLinkHtml = 'Like what you see? Visit the ' +\n",
              "          '<a target=\"_blank\" href=https://colab.research.google.com/notebooks/data_table.ipynb>data table notebook</a>'\n",
              "          + ' to learn more about interactive tables.';\n",
              "        element.innerHTML = '';\n",
              "        dataTable['output_type'] = 'display_data';\n",
              "        await google.colab.output.renderOutput(dataTable, element);\n",
              "        const docLink = document.createElement('div');\n",
              "        docLink.innerHTML = docLinkHtml;\n",
              "        element.appendChild(docLink);\n",
              "      }\n",
              "    </script>\n",
              "  </div>\n",
              "\n",
              "\n",
              "<div id=\"df-cd64dcc9-8fd9-435f-8a7d-4d6bd6c657ca\">\n",
              "  <button class=\"colab-df-quickchart\" onclick=\"quickchart('df-cd64dcc9-8fd9-435f-8a7d-4d6bd6c657ca')\"\n",
              "            title=\"Suggest charts\"\n",
              "            style=\"display:none;\">\n",
              "\n",
              "<svg xmlns=\"http://www.w3.org/2000/svg\" height=\"24px\"viewBox=\"0 0 24 24\"\n",
              "     width=\"24px\">\n",
              "    <g>\n",
              "        <path d=\"M19 3H5c-1.1 0-2 .9-2 2v14c0 1.1.9 2 2 2h14c1.1 0 2-.9 2-2V5c0-1.1-.9-2-2-2zM9 17H7v-7h2v7zm4 0h-2V7h2v10zm4 0h-2v-4h2v4z\"/>\n",
              "    </g>\n",
              "</svg>\n",
              "  </button>\n",
              "\n",
              "<style>\n",
              "  .colab-df-quickchart {\n",
              "      --bg-color: #E8F0FE;\n",
              "      --fill-color: #1967D2;\n",
              "      --hover-bg-color: #E2EBFA;\n",
              "      --hover-fill-color: #174EA6;\n",
              "      --disabled-fill-color: #AAA;\n",
              "      --disabled-bg-color: #DDD;\n",
              "  }\n",
              "\n",
              "  [theme=dark] .colab-df-quickchart {\n",
              "      --bg-color: #3B4455;\n",
              "      --fill-color: #D2E3FC;\n",
              "      --hover-bg-color: #434B5C;\n",
              "      --hover-fill-color: #FFFFFF;\n",
              "      --disabled-bg-color: #3B4455;\n",
              "      --disabled-fill-color: #666;\n",
              "  }\n",
              "\n",
              "  .colab-df-quickchart {\n",
              "    background-color: var(--bg-color);\n",
              "    border: none;\n",
              "    border-radius: 50%;\n",
              "    cursor: pointer;\n",
              "    display: none;\n",
              "    fill: var(--fill-color);\n",
              "    height: 32px;\n",
              "    padding: 0;\n",
              "    width: 32px;\n",
              "  }\n",
              "\n",
              "  .colab-df-quickchart:hover {\n",
              "    background-color: var(--hover-bg-color);\n",
              "    box-shadow: 0 1px 2px rgba(60, 64, 67, 0.3), 0 1px 3px 1px rgba(60, 64, 67, 0.15);\n",
              "    fill: var(--button-hover-fill-color);\n",
              "  }\n",
              "\n",
              "  .colab-df-quickchart-complete:disabled,\n",
              "  .colab-df-quickchart-complete:disabled:hover {\n",
              "    background-color: var(--disabled-bg-color);\n",
              "    fill: var(--disabled-fill-color);\n",
              "    box-shadow: none;\n",
              "  }\n",
              "\n",
              "  .colab-df-spinner {\n",
              "    border: 2px solid var(--fill-color);\n",
              "    border-color: transparent;\n",
              "    border-bottom-color: var(--fill-color);\n",
              "    animation:\n",
              "      spin 1s steps(1) infinite;\n",
              "  }\n",
              "\n",
              "  @keyframes spin {\n",
              "    0% {\n",
              "      border-color: transparent;\n",
              "      border-bottom-color: var(--fill-color);\n",
              "      border-left-color: var(--fill-color);\n",
              "    }\n",
              "    20% {\n",
              "      border-color: transparent;\n",
              "      border-left-color: var(--fill-color);\n",
              "      border-top-color: var(--fill-color);\n",
              "    }\n",
              "    30% {\n",
              "      border-color: transparent;\n",
              "      border-left-color: var(--fill-color);\n",
              "      border-top-color: var(--fill-color);\n",
              "      border-right-color: var(--fill-color);\n",
              "    }\n",
              "    40% {\n",
              "      border-color: transparent;\n",
              "      border-right-color: var(--fill-color);\n",
              "      border-top-color: var(--fill-color);\n",
              "    }\n",
              "    60% {\n",
              "      border-color: transparent;\n",
              "      border-right-color: var(--fill-color);\n",
              "    }\n",
              "    80% {\n",
              "      border-color: transparent;\n",
              "      border-right-color: var(--fill-color);\n",
              "      border-bottom-color: var(--fill-color);\n",
              "    }\n",
              "    90% {\n",
              "      border-color: transparent;\n",
              "      border-bottom-color: var(--fill-color);\n",
              "    }\n",
              "  }\n",
              "</style>\n",
              "\n",
              "  <script>\n",
              "    async function quickchart(key) {\n",
              "      const quickchartButtonEl =\n",
              "        document.querySelector('#' + key + ' button');\n",
              "      quickchartButtonEl.disabled = true;  // To prevent multiple clicks.\n",
              "      quickchartButtonEl.classList.add('colab-df-spinner');\n",
              "      try {\n",
              "        const charts = await google.colab.kernel.invokeFunction(\n",
              "            'suggestCharts', [key], {});\n",
              "      } catch (error) {\n",
              "        console.error('Error during call to suggestCharts:', error);\n",
              "      }\n",
              "      quickchartButtonEl.classList.remove('colab-df-spinner');\n",
              "      quickchartButtonEl.classList.add('colab-df-quickchart-complete');\n",
              "    }\n",
              "    (() => {\n",
              "      let quickchartButtonEl =\n",
              "        document.querySelector('#df-cd64dcc9-8fd9-435f-8a7d-4d6bd6c657ca button');\n",
              "      quickchartButtonEl.style.display =\n",
              "        google.colab.kernel.accessAllowed ? 'block' : 'none';\n",
              "    })();\n",
              "  </script>\n",
              "</div>\n",
              "\n",
              "    </div>\n",
              "  </div>\n"
            ],
            "application/vnd.google.colaboratory.intrinsic+json": {
              "type": "dataframe",
              "variable_name": "new_df",
              "summary": "{\n  \"name\": \"new_df\",\n  \"rows\": 3424,\n  \"fields\": [\n    {\n      \"column\": \"Course_Name\",\n      \"properties\": {\n        \"dtype\": \"string\",\n        \"num_unique_values\": 3416,\n        \"samples\": [\n          \"Create a Record of Students using Arrays in Java\",\n          \"Fundamentals of financial and management accounting\",\n          \"When Disaster Meets Conflict\"\n        ],\n        \"semantic_type\": \"\",\n        \"description\": \"\"\n      }\n    },\n    {\n      \"column\": \"Course_Description\",\n      \"properties\": {\n        \"dtype\": \"string\",\n        \"num_unique_values\": 3397,\n        \"samples\": [\n          \"This course can also be taken for academic credit as ECEA 5317, part of CU Boulder\\ufffds Master of Science in Electrical Engineering degree.  Upon completion of this course the learner will know the difference between systems you can bet your life on (mission critical) and those which provide predictable response and quality of service (reliable).  This will be achieved not only by study of design methods and patterns for mission critical systems, but also through implementation of soft real-time systems and comparison to hard real-time.  Methods of verification to determine ability to meet mission critical as well as soft real-time requirements will be learned so that the learner can properly assess risk, reliability and impact of failure in real-time systems.  At the end of this course learners will be able to apply an architectural style (cyclic executive, RTOS, or embedded Linux) to more detailed design of a mission critical system, a soft real-time system, or a mixed hard and soft real-time system, including:  ?\\\\tThorough understanding of hardware/software device interfaces and resource view for hardware abstraction layers (HAL, BSP) ?\\\\tDesign trade-offs with different real-time hardware architectures including single core, multi-core, hybrid-FPGA, GP-GPU, and DSP systems, with emphasis on multi-core ?\\\\tMission critical embedded systems architecture and key design elements ?\\\\tFault tolerant processing, memory, and I/O concepts\",\n          \"Financial Accounting is often called the language of business; it is the language that managers use to communicate the firm's financial and economic information to external parties such as shareholders and creditors. Nobody working in business can afford financial illiteracy. Whether you run your own business, work as a manager or are just starting your career, you want to understand financial information and be able to interact with accountants, controllers, and financial managers. You want to talk business!   This course will provide you with the accounting language's essentials. Upon completion, you should be able to read and interpret financial statements for business diagnosis and decision-making. More importantly, you will possess the conceptual base to keep learning more sophisticated accounting and finance on your own. Do not forget that, as with any other language, becoming proficient with accounting requires constant practice.\",\n          \"Build on the software engineering skills you learned in \\ufffdJava Programming: Solving Problems with Software\\ufffd by learning new data structures. Use these data structures to build more complex programs that use Java\\ufffds object-oriented features. At the end of the course you will write an encryption program and a program to break your encryption algorithm.  After completing this course, you will be able to: 1. Read and write data from/to files; 2. Solve problems involving data files; 3. Perform quantitative analyses of data (e.g., finding maximums, minimums, averages);  4. Store and manipulate data in an array or ArrayList; 5. Combine multiple classes to solve larger problems; 6. Use iterables and collections (including maps) in Java.\"\n        ],\n        \"semantic_type\": \"\",\n        \"description\": \"\"\n      }\n    },\n    {\n      \"column\": \"Skills\",\n      \"properties\": {\n        \"dtype\": \"string\",\n        \"num_unique_values\": 3424,\n        \"samples\": [\n          \"economy  pandemic  global city  financial centre  crisis  global  curiosity  slum  emerging markets  Creativity social-sciences governance-and-society\",\n          \"i-deas  User Experience  Human Computer Interaction  thought  Map  experience  interview  interaction design  persona (user experience)  User Research computer-science design-and-product\",\n          \"Leadership and Management  organizational conflict  leadership  Human Resources  conflict resolution  performance appraisal  Conflict Management  interview  Performance Management  performance business leadership-and-management\"\n        ],\n        \"semantic_type\": \"\",\n        \"description\": \"\"\n      }\n    },\n    {\n      \"column\": \"Difficulty_Level\",\n      \"properties\": {\n        \"dtype\": \"category\",\n        \"num_unique_values\": 5,\n        \"samples\": [\n          \"Advanced\",\n          \"Conversant\",\n          \"Intermediate\"\n        ],\n        \"semantic_type\": \"\",\n        \"description\": \"\"\n      }\n    }\n  ]\n}"
            }
          },
          "metadata": {},
          "execution_count": 15
        }
      ]
    },
    {
      "cell_type": "markdown",
      "source": [
        "### Menggabungkan konten semua fitur untuk membentuk satu fitur, menampilkan 5 baris pertama dataset yang sudah diolah tersebut"
      ],
      "metadata": {
        "id": "JJSIZ0FzrTYm"
      }
    },
    {
      "cell_type": "code",
      "source": [
        "new_df[\"description_key_words\"] = ['' for i in range(new_df.shape[0])]\n",
        "for col in features_selected:\n",
        "    new_df[\"description_key_words\"] += [' ' for i in range(new_df.shape[0])] + new_df[col]\n",
        "new_df.head()"
      ],
      "metadata": {
        "colab": {
          "base_uri": "https://localhost:8080/",
          "height": 512
        },
        "id": "ysHibfVqq-VY",
        "outputId": "f88aeb0e-bf28-427e-9714-30994a5e3873"
      },
      "execution_count": 16,
      "outputs": [
        {
          "output_type": "stream",
          "name": "stderr",
          "text": [
            "<ipython-input-16-e92b2c3aad87>:1: SettingWithCopyWarning: \n",
            "A value is trying to be set on a copy of a slice from a DataFrame.\n",
            "Try using .loc[row_indexer,col_indexer] = value instead\n",
            "\n",
            "See the caveats in the documentation: https://pandas.pydata.org/pandas-docs/stable/user_guide/indexing.html#returning-a-view-versus-a-copy\n",
            "  new_df[\"description_key_words\"] = ['' for i in range(new_df.shape[0])]\n",
            "<ipython-input-16-e92b2c3aad87>:3: SettingWithCopyWarning: \n",
            "A value is trying to be set on a copy of a slice from a DataFrame.\n",
            "Try using .loc[row_indexer,col_indexer] = value instead\n",
            "\n",
            "See the caveats in the documentation: https://pandas.pydata.org/pandas-docs/stable/user_guide/indexing.html#returning-a-view-versus-a-copy\n",
            "  new_df[\"description_key_words\"] += [' ' for i in range(new_df.shape[0])] + new_df[col]\n"
          ]
        },
        {
          "output_type": "execute_result",
          "data": {
            "text/plain": [
              "                                         Course_Name  \\\n",
              "0  Write A Feature Length Screenplay For Film Or ...   \n",
              "1  Business Strategy: Business Model Canvas Analy...   \n",
              "2                      Silicon Thin Film Solar Cells   \n",
              "3                               Finance for Managers   \n",
              "4       Retrieve Data using Single-Table SQL Queries   \n",
              "\n",
              "                                  Course_Description  \\\n",
              "0  Write a Full Length Feature Film Script  In th...   \n",
              "1  By the end of this guided project, you will be...   \n",
              "2  This course consists of a general presentation...   \n",
              "3  When it comes to numbers, there is always more...   \n",
              "4  In this course you�ll learn how to effectively...   \n",
              "\n",
              "                                              Skills Difficulty_Level  \\\n",
              "0  Drama  Comedy  peering  screenwriting  film  D...         Beginner   \n",
              "1  Finance  business plan  persona (user experien...         Beginner   \n",
              "2  chemistry  physics  Solar Energy  film  lambda...         Advanced   \n",
              "3  accounts receivable  dupont analysis  analysis...     Intermediate   \n",
              "4  Data Analysis  select (sql)  database manageme...         Beginner   \n",
              "\n",
              "                               description_key_words  \n",
              "0   Write A Feature Length Screenplay For Film Or...  \n",
              "1   Business Strategy: Business Model Canvas Anal...  \n",
              "2   Silicon Thin Film Solar Cells This course con...  \n",
              "3   Finance for Managers When it comes to numbers...  \n",
              "4   Retrieve Data using Single-Table SQL Queries ...  "
            ],
            "text/html": [
              "\n",
              "  <div id=\"df-e6ddde83-cff2-4318-a4fe-a32da6205d97\" class=\"colab-df-container\">\n",
              "    <div>\n",
              "<style scoped>\n",
              "    .dataframe tbody tr th:only-of-type {\n",
              "        vertical-align: middle;\n",
              "    }\n",
              "\n",
              "    .dataframe tbody tr th {\n",
              "        vertical-align: top;\n",
              "    }\n",
              "\n",
              "    .dataframe thead th {\n",
              "        text-align: right;\n",
              "    }\n",
              "</style>\n",
              "<table border=\"1\" class=\"dataframe\">\n",
              "  <thead>\n",
              "    <tr style=\"text-align: right;\">\n",
              "      <th></th>\n",
              "      <th>Course_Name</th>\n",
              "      <th>Course_Description</th>\n",
              "      <th>Skills</th>\n",
              "      <th>Difficulty_Level</th>\n",
              "      <th>description_key_words</th>\n",
              "    </tr>\n",
              "  </thead>\n",
              "  <tbody>\n",
              "    <tr>\n",
              "      <th>0</th>\n",
              "      <td>Write A Feature Length Screenplay For Film Or ...</td>\n",
              "      <td>Write a Full Length Feature Film Script  In th...</td>\n",
              "      <td>Drama  Comedy  peering  screenwriting  film  D...</td>\n",
              "      <td>Beginner</td>\n",
              "      <td>Write A Feature Length Screenplay For Film Or...</td>\n",
              "    </tr>\n",
              "    <tr>\n",
              "      <th>1</th>\n",
              "      <td>Business Strategy: Business Model Canvas Analy...</td>\n",
              "      <td>By the end of this guided project, you will be...</td>\n",
              "      <td>Finance  business plan  persona (user experien...</td>\n",
              "      <td>Beginner</td>\n",
              "      <td>Business Strategy: Business Model Canvas Anal...</td>\n",
              "    </tr>\n",
              "    <tr>\n",
              "      <th>2</th>\n",
              "      <td>Silicon Thin Film Solar Cells</td>\n",
              "      <td>This course consists of a general presentation...</td>\n",
              "      <td>chemistry  physics  Solar Energy  film  lambda...</td>\n",
              "      <td>Advanced</td>\n",
              "      <td>Silicon Thin Film Solar Cells This course con...</td>\n",
              "    </tr>\n",
              "    <tr>\n",
              "      <th>3</th>\n",
              "      <td>Finance for Managers</td>\n",
              "      <td>When it comes to numbers, there is always more...</td>\n",
              "      <td>accounts receivable  dupont analysis  analysis...</td>\n",
              "      <td>Intermediate</td>\n",
              "      <td>Finance for Managers When it comes to numbers...</td>\n",
              "    </tr>\n",
              "    <tr>\n",
              "      <th>4</th>\n",
              "      <td>Retrieve Data using Single-Table SQL Queries</td>\n",
              "      <td>In this course you�ll learn how to effectively...</td>\n",
              "      <td>Data Analysis  select (sql)  database manageme...</td>\n",
              "      <td>Beginner</td>\n",
              "      <td>Retrieve Data using Single-Table SQL Queries ...</td>\n",
              "    </tr>\n",
              "  </tbody>\n",
              "</table>\n",
              "</div>\n",
              "    <div class=\"colab-df-buttons\">\n",
              "\n",
              "  <div class=\"colab-df-container\">\n",
              "    <button class=\"colab-df-convert\" onclick=\"convertToInteractive('df-e6ddde83-cff2-4318-a4fe-a32da6205d97')\"\n",
              "            title=\"Convert this dataframe to an interactive table.\"\n",
              "            style=\"display:none;\">\n",
              "\n",
              "  <svg xmlns=\"http://www.w3.org/2000/svg\" height=\"24px\" viewBox=\"0 -960 960 960\">\n",
              "    <path d=\"M120-120v-720h720v720H120Zm60-500h600v-160H180v160Zm220 220h160v-160H400v160Zm0 220h160v-160H400v160ZM180-400h160v-160H180v160Zm440 0h160v-160H620v160ZM180-180h160v-160H180v160Zm440 0h160v-160H620v160Z\"/>\n",
              "  </svg>\n",
              "    </button>\n",
              "\n",
              "  <style>\n",
              "    .colab-df-container {\n",
              "      display:flex;\n",
              "      gap: 12px;\n",
              "    }\n",
              "\n",
              "    .colab-df-convert {\n",
              "      background-color: #E8F0FE;\n",
              "      border: none;\n",
              "      border-radius: 50%;\n",
              "      cursor: pointer;\n",
              "      display: none;\n",
              "      fill: #1967D2;\n",
              "      height: 32px;\n",
              "      padding: 0 0 0 0;\n",
              "      width: 32px;\n",
              "    }\n",
              "\n",
              "    .colab-df-convert:hover {\n",
              "      background-color: #E2EBFA;\n",
              "      box-shadow: 0px 1px 2px rgba(60, 64, 67, 0.3), 0px 1px 3px 1px rgba(60, 64, 67, 0.15);\n",
              "      fill: #174EA6;\n",
              "    }\n",
              "\n",
              "    .colab-df-buttons div {\n",
              "      margin-bottom: 4px;\n",
              "    }\n",
              "\n",
              "    [theme=dark] .colab-df-convert {\n",
              "      background-color: #3B4455;\n",
              "      fill: #D2E3FC;\n",
              "    }\n",
              "\n",
              "    [theme=dark] .colab-df-convert:hover {\n",
              "      background-color: #434B5C;\n",
              "      box-shadow: 0px 1px 3px 1px rgba(0, 0, 0, 0.15);\n",
              "      filter: drop-shadow(0px 1px 2px rgba(0, 0, 0, 0.3));\n",
              "      fill: #FFFFFF;\n",
              "    }\n",
              "  </style>\n",
              "\n",
              "    <script>\n",
              "      const buttonEl =\n",
              "        document.querySelector('#df-e6ddde83-cff2-4318-a4fe-a32da6205d97 button.colab-df-convert');\n",
              "      buttonEl.style.display =\n",
              "        google.colab.kernel.accessAllowed ? 'block' : 'none';\n",
              "\n",
              "      async function convertToInteractive(key) {\n",
              "        const element = document.querySelector('#df-e6ddde83-cff2-4318-a4fe-a32da6205d97');\n",
              "        const dataTable =\n",
              "          await google.colab.kernel.invokeFunction('convertToInteractive',\n",
              "                                                    [key], {});\n",
              "        if (!dataTable) return;\n",
              "\n",
              "        const docLinkHtml = 'Like what you see? Visit the ' +\n",
              "          '<a target=\"_blank\" href=https://colab.research.google.com/notebooks/data_table.ipynb>data table notebook</a>'\n",
              "          + ' to learn more about interactive tables.';\n",
              "        element.innerHTML = '';\n",
              "        dataTable['output_type'] = 'display_data';\n",
              "        await google.colab.output.renderOutput(dataTable, element);\n",
              "        const docLink = document.createElement('div');\n",
              "        docLink.innerHTML = docLinkHtml;\n",
              "        element.appendChild(docLink);\n",
              "      }\n",
              "    </script>\n",
              "  </div>\n",
              "\n",
              "\n",
              "<div id=\"df-a6ef22fa-8616-4128-a2d8-b951076f061a\">\n",
              "  <button class=\"colab-df-quickchart\" onclick=\"quickchart('df-a6ef22fa-8616-4128-a2d8-b951076f061a')\"\n",
              "            title=\"Suggest charts\"\n",
              "            style=\"display:none;\">\n",
              "\n",
              "<svg xmlns=\"http://www.w3.org/2000/svg\" height=\"24px\"viewBox=\"0 0 24 24\"\n",
              "     width=\"24px\">\n",
              "    <g>\n",
              "        <path d=\"M19 3H5c-1.1 0-2 .9-2 2v14c0 1.1.9 2 2 2h14c1.1 0 2-.9 2-2V5c0-1.1-.9-2-2-2zM9 17H7v-7h2v7zm4 0h-2V7h2v10zm4 0h-2v-4h2v4z\"/>\n",
              "    </g>\n",
              "</svg>\n",
              "  </button>\n",
              "\n",
              "<style>\n",
              "  .colab-df-quickchart {\n",
              "      --bg-color: #E8F0FE;\n",
              "      --fill-color: #1967D2;\n",
              "      --hover-bg-color: #E2EBFA;\n",
              "      --hover-fill-color: #174EA6;\n",
              "      --disabled-fill-color: #AAA;\n",
              "      --disabled-bg-color: #DDD;\n",
              "  }\n",
              "\n",
              "  [theme=dark] .colab-df-quickchart {\n",
              "      --bg-color: #3B4455;\n",
              "      --fill-color: #D2E3FC;\n",
              "      --hover-bg-color: #434B5C;\n",
              "      --hover-fill-color: #FFFFFF;\n",
              "      --disabled-bg-color: #3B4455;\n",
              "      --disabled-fill-color: #666;\n",
              "  }\n",
              "\n",
              "  .colab-df-quickchart {\n",
              "    background-color: var(--bg-color);\n",
              "    border: none;\n",
              "    border-radius: 50%;\n",
              "    cursor: pointer;\n",
              "    display: none;\n",
              "    fill: var(--fill-color);\n",
              "    height: 32px;\n",
              "    padding: 0;\n",
              "    width: 32px;\n",
              "  }\n",
              "\n",
              "  .colab-df-quickchart:hover {\n",
              "    background-color: var(--hover-bg-color);\n",
              "    box-shadow: 0 1px 2px rgba(60, 64, 67, 0.3), 0 1px 3px 1px rgba(60, 64, 67, 0.15);\n",
              "    fill: var(--button-hover-fill-color);\n",
              "  }\n",
              "\n",
              "  .colab-df-quickchart-complete:disabled,\n",
              "  .colab-df-quickchart-complete:disabled:hover {\n",
              "    background-color: var(--disabled-bg-color);\n",
              "    fill: var(--disabled-fill-color);\n",
              "    box-shadow: none;\n",
              "  }\n",
              "\n",
              "  .colab-df-spinner {\n",
              "    border: 2px solid var(--fill-color);\n",
              "    border-color: transparent;\n",
              "    border-bottom-color: var(--fill-color);\n",
              "    animation:\n",
              "      spin 1s steps(1) infinite;\n",
              "  }\n",
              "\n",
              "  @keyframes spin {\n",
              "    0% {\n",
              "      border-color: transparent;\n",
              "      border-bottom-color: var(--fill-color);\n",
              "      border-left-color: var(--fill-color);\n",
              "    }\n",
              "    20% {\n",
              "      border-color: transparent;\n",
              "      border-left-color: var(--fill-color);\n",
              "      border-top-color: var(--fill-color);\n",
              "    }\n",
              "    30% {\n",
              "      border-color: transparent;\n",
              "      border-left-color: var(--fill-color);\n",
              "      border-top-color: var(--fill-color);\n",
              "      border-right-color: var(--fill-color);\n",
              "    }\n",
              "    40% {\n",
              "      border-color: transparent;\n",
              "      border-right-color: var(--fill-color);\n",
              "      border-top-color: var(--fill-color);\n",
              "    }\n",
              "    60% {\n",
              "      border-color: transparent;\n",
              "      border-right-color: var(--fill-color);\n",
              "    }\n",
              "    80% {\n",
              "      border-color: transparent;\n",
              "      border-right-color: var(--fill-color);\n",
              "      border-bottom-color: var(--fill-color);\n",
              "    }\n",
              "    90% {\n",
              "      border-color: transparent;\n",
              "      border-bottom-color: var(--fill-color);\n",
              "    }\n",
              "  }\n",
              "</style>\n",
              "\n",
              "  <script>\n",
              "    async function quickchart(key) {\n",
              "      const quickchartButtonEl =\n",
              "        document.querySelector('#' + key + ' button');\n",
              "      quickchartButtonEl.disabled = true;  // To prevent multiple clicks.\n",
              "      quickchartButtonEl.classList.add('colab-df-spinner');\n",
              "      try {\n",
              "        const charts = await google.colab.kernel.invokeFunction(\n",
              "            'suggestCharts', [key], {});\n",
              "      } catch (error) {\n",
              "        console.error('Error during call to suggestCharts:', error);\n",
              "      }\n",
              "      quickchartButtonEl.classList.remove('colab-df-spinner');\n",
              "      quickchartButtonEl.classList.add('colab-df-quickchart-complete');\n",
              "    }\n",
              "    (() => {\n",
              "      let quickchartButtonEl =\n",
              "        document.querySelector('#df-a6ef22fa-8616-4128-a2d8-b951076f061a button');\n",
              "      quickchartButtonEl.style.display =\n",
              "        google.colab.kernel.accessAllowed ? 'block' : 'none';\n",
              "    })();\n",
              "  </script>\n",
              "</div>\n",
              "\n",
              "    </div>\n",
              "  </div>\n"
            ],
            "application/vnd.google.colaboratory.intrinsic+json": {
              "type": "dataframe",
              "variable_name": "new_df",
              "summary": "{\n  \"name\": \"new_df\",\n  \"rows\": 3424,\n  \"fields\": [\n    {\n      \"column\": \"Course_Name\",\n      \"properties\": {\n        \"dtype\": \"string\",\n        \"num_unique_values\": 3416,\n        \"samples\": [\n          \"Create a Record of Students using Arrays in Java\",\n          \"Fundamentals of financial and management accounting\",\n          \"When Disaster Meets Conflict\"\n        ],\n        \"semantic_type\": \"\",\n        \"description\": \"\"\n      }\n    },\n    {\n      \"column\": \"Course_Description\",\n      \"properties\": {\n        \"dtype\": \"string\",\n        \"num_unique_values\": 3397,\n        \"samples\": [\n          \"This course can also be taken for academic credit as ECEA 5317, part of CU Boulder\\ufffds Master of Science in Electrical Engineering degree.  Upon completion of this course the learner will know the difference between systems you can bet your life on (mission critical) and those which provide predictable response and quality of service (reliable).  This will be achieved not only by study of design methods and patterns for mission critical systems, but also through implementation of soft real-time systems and comparison to hard real-time.  Methods of verification to determine ability to meet mission critical as well as soft real-time requirements will be learned so that the learner can properly assess risk, reliability and impact of failure in real-time systems.  At the end of this course learners will be able to apply an architectural style (cyclic executive, RTOS, or embedded Linux) to more detailed design of a mission critical system, a soft real-time system, or a mixed hard and soft real-time system, including:  ?\\\\tThorough understanding of hardware/software device interfaces and resource view for hardware abstraction layers (HAL, BSP) ?\\\\tDesign trade-offs with different real-time hardware architectures including single core, multi-core, hybrid-FPGA, GP-GPU, and DSP systems, with emphasis on multi-core ?\\\\tMission critical embedded systems architecture and key design elements ?\\\\tFault tolerant processing, memory, and I/O concepts\",\n          \"Financial Accounting is often called the language of business; it is the language that managers use to communicate the firm's financial and economic information to external parties such as shareholders and creditors. Nobody working in business can afford financial illiteracy. Whether you run your own business, work as a manager or are just starting your career, you want to understand financial information and be able to interact with accountants, controllers, and financial managers. You want to talk business!   This course will provide you with the accounting language's essentials. Upon completion, you should be able to read and interpret financial statements for business diagnosis and decision-making. More importantly, you will possess the conceptual base to keep learning more sophisticated accounting and finance on your own. Do not forget that, as with any other language, becoming proficient with accounting requires constant practice.\",\n          \"Build on the software engineering skills you learned in \\ufffdJava Programming: Solving Problems with Software\\ufffd by learning new data structures. Use these data structures to build more complex programs that use Java\\ufffds object-oriented features. At the end of the course you will write an encryption program and a program to break your encryption algorithm.  After completing this course, you will be able to: 1. Read and write data from/to files; 2. Solve problems involving data files; 3. Perform quantitative analyses of data (e.g., finding maximums, minimums, averages);  4. Store and manipulate data in an array or ArrayList; 5. Combine multiple classes to solve larger problems; 6. Use iterables and collections (including maps) in Java.\"\n        ],\n        \"semantic_type\": \"\",\n        \"description\": \"\"\n      }\n    },\n    {\n      \"column\": \"Skills\",\n      \"properties\": {\n        \"dtype\": \"string\",\n        \"num_unique_values\": 3424,\n        \"samples\": [\n          \"economy  pandemic  global city  financial centre  crisis  global  curiosity  slum  emerging markets  Creativity social-sciences governance-and-society\",\n          \"i-deas  User Experience  Human Computer Interaction  thought  Map  experience  interview  interaction design  persona (user experience)  User Research computer-science design-and-product\",\n          \"Leadership and Management  organizational conflict  leadership  Human Resources  conflict resolution  performance appraisal  Conflict Management  interview  Performance Management  performance business leadership-and-management\"\n        ],\n        \"semantic_type\": \"\",\n        \"description\": \"\"\n      }\n    },\n    {\n      \"column\": \"Difficulty_Level\",\n      \"properties\": {\n        \"dtype\": \"category\",\n        \"num_unique_values\": 5,\n        \"samples\": [\n          \"Advanced\",\n          \"Conversant\",\n          \"Intermediate\"\n        ],\n        \"semantic_type\": \"\",\n        \"description\": \"\"\n      }\n    },\n    {\n      \"column\": \"description_key_words\",\n      \"properties\": {\n        \"dtype\": \"string\",\n        \"num_unique_values\": 3424,\n        \"samples\": [\n          \" The City and You: Find Your Best Place Welcome to The City and You: Find Your Best Place. I'm excited to have you in the class and look forward to your contributions to the other learners in our community.  This free course will provide the knowledge and  the tools needed to understand what cities do, why they matter, the forces shaping the greatest wave of urbanization in history, and how to pick the right place for you. The course will also help you develop critical thinking skills. We'll accomplish this by providing evidence of the importance of cities, and why and how they matter to you. Then we\\ufffdll ask you to apply what you\\ufffdve learned in an exercise which will help you assess your own community and find your best place.   This course is accessible and open to anyone who is interested in learning more about cities and the ways they affect our lives. It is organized around five key modules: (1) Why Cities Matter,  (2) A World of Cities,  (3) The Creative City, (4) The Divided City and the New Urban Crisis, and (5) How to Find the Best Place for You.   After completing the course, you will be able to:   (1) Identify why cities are the drivers of economic prosperity; (2) Explain the drivers and implications of fast-growing urbanization worldwide; (3) Outline the key characteristics of a creative and innovative city; (4) Describe the social divides and challenges facing cities and the solutions cities are using to address them; and (5) Recognize the trade-offs of staying in your current city versus moving, and identify the best place for you and your family to live.  Of course the world has changed a great deal since I developed this course. The Global COVID-19 Pandemic is affecting cities, businesses and people around the world. It is something I have been writing about and working with mayors, city managers, economic developers, urban leaders and communities across the globe. I have put together a new module on Cities and the Coronavirus to help you better understand the ways in which the Covid-19 crisis is impacting cities and how you can best understand  and deal with that.  I\\ufffdd like to wish each and every one of you good luck as you get started on this journey. I hope you enjoy the course! economy  pandemic  global city  financial centre  crisis  global  curiosity  slum  emerging markets  Creativity social-sciences governance-and-society Beginner\",\n          \" User Experience: Research & Prototyping What makes for a great user experience? How can you consistently design experiences that work well, are easy to use and  people want to use? This course will teach you the core process of experience design and how to effectively evaluate your work with the people for whom you are designing. You'll learn fundamental methods of design research that will enable  you to effectively understand people, the sequences of their actions, and the context in which they work. Through the assignments, you\\ufffdll learn practical techniques for making sense of what you see and transform your observations into meaningful actionable insights and unique opportunity areas for design.  You\\ufffdll also explore how to generate ideas in response to the opportunities identified and learn methods for making your ideas tangible. By answering specific questions and refining your concepts, you\\ufffdll move closer to making your ideas real. We\\ufffdll use cases from a variety of industries including health, education, transportation, finance, and beyond to illustrate how these methods work across different domains.   Good luck and we hope you enjoy the course! i-deas  User Experience  Human Computer Interaction  thought  Map  experience  interview  interaction design  persona (user experience)  User Research computer-science design-and-product Advanced\",\n          \" The Manager's Toolkit: A Practical Guide to Managing People at Work The aim of this course is to give you a practical guide to managing people at work. It does not matter whether you are a first time manager in a shop or a middle manager in an office environment; the same skills apply to every work place. In the course you will engage with some HR theories and then see how they translate into every day working life.   At the end of the course we hope you will be better equipped to choose a suitable employee, to motivate and appraise your team, to manage conflict in the work place and to lead and make decision on a day to day basis. Leadership and Management  organizational conflict  leadership  Human Resources  conflict resolution  performance appraisal  Conflict Management  interview  Performance Management  performance business leadership-and-management Beginner\"\n        ],\n        \"semantic_type\": \"\",\n        \"description\": \"\"\n      }\n    }\n  ]\n}"
            }
          },
          "metadata": {},
          "execution_count": 16
        }
      ]
    },
    {
      "cell_type": "markdown",
      "source": [
        "### Dataset dibuat supaya hanya memiliki kolom Course_Name dan description_key_words"
      ],
      "metadata": {
        "id": "6iEtXcYcrbgX"
      }
    },
    {
      "cell_type": "code",
      "source": [
        "new_df = new_df[[\"Course_Name\", \"description_key_words\"]]\n",
        "new_df"
      ],
      "metadata": {
        "colab": {
          "base_uri": "https://localhost:8080/",
          "height": 423
        },
        "id": "rAlwsdB2q-SJ",
        "outputId": "fadb9502-3f80-4a79-cabb-319a6f613ae7"
      },
      "execution_count": 17,
      "outputs": [
        {
          "output_type": "execute_result",
          "data": {
            "text/plain": [
              "                                            Course_Name  \\\n",
              "0     Write A Feature Length Screenplay For Film Or ...   \n",
              "1     Business Strategy: Business Model Canvas Analy...   \n",
              "2                         Silicon Thin Film Solar Cells   \n",
              "3                                  Finance for Managers   \n",
              "4          Retrieve Data using Single-Table SQL Queries   \n",
              "...                                                 ...   \n",
              "3517  Capstone: Retrieving, Processing, and Visualiz...   \n",
              "3518                   Patrick Henry: Forgotten Founder   \n",
              "3519  Business intelligence and data analytics: Gene...   \n",
              "3520                                Rigid Body Dynamics   \n",
              "3521  Architecting with Google Kubernetes Engine: Pr...   \n",
              "\n",
              "                                  description_key_words  \n",
              "0      Write A Feature Length Screenplay For Film Or...  \n",
              "1      Business Strategy: Business Model Canvas Anal...  \n",
              "2      Silicon Thin Film Solar Cells This course con...  \n",
              "3      Finance for Managers When it comes to numbers...  \n",
              "4      Retrieve Data using Single-Table SQL Queries ...  \n",
              "...                                                 ...  \n",
              "3517   Capstone: Retrieving, Processing, and Visuali...  \n",
              "3518   Patrick Henry: Forgotten Founder �Give me lib...  \n",
              "3519   Business intelligence and data analytics: Gen...  \n",
              "3520   Rigid Body Dynamics This course teaches dynam...  \n",
              "3521   Architecting with Google Kubernetes Engine: P...  \n",
              "\n",
              "[3424 rows x 2 columns]"
            ],
            "text/html": [
              "\n",
              "  <div id=\"df-1ae00582-5a05-4ad5-9c05-cc8ea9038984\" class=\"colab-df-container\">\n",
              "    <div>\n",
              "<style scoped>\n",
              "    .dataframe tbody tr th:only-of-type {\n",
              "        vertical-align: middle;\n",
              "    }\n",
              "\n",
              "    .dataframe tbody tr th {\n",
              "        vertical-align: top;\n",
              "    }\n",
              "\n",
              "    .dataframe thead th {\n",
              "        text-align: right;\n",
              "    }\n",
              "</style>\n",
              "<table border=\"1\" class=\"dataframe\">\n",
              "  <thead>\n",
              "    <tr style=\"text-align: right;\">\n",
              "      <th></th>\n",
              "      <th>Course_Name</th>\n",
              "      <th>description_key_words</th>\n",
              "    </tr>\n",
              "  </thead>\n",
              "  <tbody>\n",
              "    <tr>\n",
              "      <th>0</th>\n",
              "      <td>Write A Feature Length Screenplay For Film Or ...</td>\n",
              "      <td>Write A Feature Length Screenplay For Film Or...</td>\n",
              "    </tr>\n",
              "    <tr>\n",
              "      <th>1</th>\n",
              "      <td>Business Strategy: Business Model Canvas Analy...</td>\n",
              "      <td>Business Strategy: Business Model Canvas Anal...</td>\n",
              "    </tr>\n",
              "    <tr>\n",
              "      <th>2</th>\n",
              "      <td>Silicon Thin Film Solar Cells</td>\n",
              "      <td>Silicon Thin Film Solar Cells This course con...</td>\n",
              "    </tr>\n",
              "    <tr>\n",
              "      <th>3</th>\n",
              "      <td>Finance for Managers</td>\n",
              "      <td>Finance for Managers When it comes to numbers...</td>\n",
              "    </tr>\n",
              "    <tr>\n",
              "      <th>4</th>\n",
              "      <td>Retrieve Data using Single-Table SQL Queries</td>\n",
              "      <td>Retrieve Data using Single-Table SQL Queries ...</td>\n",
              "    </tr>\n",
              "    <tr>\n",
              "      <th>...</th>\n",
              "      <td>...</td>\n",
              "      <td>...</td>\n",
              "    </tr>\n",
              "    <tr>\n",
              "      <th>3517</th>\n",
              "      <td>Capstone: Retrieving, Processing, and Visualiz...</td>\n",
              "      <td>Capstone: Retrieving, Processing, and Visuali...</td>\n",
              "    </tr>\n",
              "    <tr>\n",
              "      <th>3518</th>\n",
              "      <td>Patrick Henry: Forgotten Founder</td>\n",
              "      <td>Patrick Henry: Forgotten Founder �Give me lib...</td>\n",
              "    </tr>\n",
              "    <tr>\n",
              "      <th>3519</th>\n",
              "      <td>Business intelligence and data analytics: Gene...</td>\n",
              "      <td>Business intelligence and data analytics: Gen...</td>\n",
              "    </tr>\n",
              "    <tr>\n",
              "      <th>3520</th>\n",
              "      <td>Rigid Body Dynamics</td>\n",
              "      <td>Rigid Body Dynamics This course teaches dynam...</td>\n",
              "    </tr>\n",
              "    <tr>\n",
              "      <th>3521</th>\n",
              "      <td>Architecting with Google Kubernetes Engine: Pr...</td>\n",
              "      <td>Architecting with Google Kubernetes Engine: P...</td>\n",
              "    </tr>\n",
              "  </tbody>\n",
              "</table>\n",
              "<p>3424 rows × 2 columns</p>\n",
              "</div>\n",
              "    <div class=\"colab-df-buttons\">\n",
              "\n",
              "  <div class=\"colab-df-container\">\n",
              "    <button class=\"colab-df-convert\" onclick=\"convertToInteractive('df-1ae00582-5a05-4ad5-9c05-cc8ea9038984')\"\n",
              "            title=\"Convert this dataframe to an interactive table.\"\n",
              "            style=\"display:none;\">\n",
              "\n",
              "  <svg xmlns=\"http://www.w3.org/2000/svg\" height=\"24px\" viewBox=\"0 -960 960 960\">\n",
              "    <path d=\"M120-120v-720h720v720H120Zm60-500h600v-160H180v160Zm220 220h160v-160H400v160Zm0 220h160v-160H400v160ZM180-400h160v-160H180v160Zm440 0h160v-160H620v160ZM180-180h160v-160H180v160Zm440 0h160v-160H620v160Z\"/>\n",
              "  </svg>\n",
              "    </button>\n",
              "\n",
              "  <style>\n",
              "    .colab-df-container {\n",
              "      display:flex;\n",
              "      gap: 12px;\n",
              "    }\n",
              "\n",
              "    .colab-df-convert {\n",
              "      background-color: #E8F0FE;\n",
              "      border: none;\n",
              "      border-radius: 50%;\n",
              "      cursor: pointer;\n",
              "      display: none;\n",
              "      fill: #1967D2;\n",
              "      height: 32px;\n",
              "      padding: 0 0 0 0;\n",
              "      width: 32px;\n",
              "    }\n",
              "\n",
              "    .colab-df-convert:hover {\n",
              "      background-color: #E2EBFA;\n",
              "      box-shadow: 0px 1px 2px rgba(60, 64, 67, 0.3), 0px 1px 3px 1px rgba(60, 64, 67, 0.15);\n",
              "      fill: #174EA6;\n",
              "    }\n",
              "\n",
              "    .colab-df-buttons div {\n",
              "      margin-bottom: 4px;\n",
              "    }\n",
              "\n",
              "    [theme=dark] .colab-df-convert {\n",
              "      background-color: #3B4455;\n",
              "      fill: #D2E3FC;\n",
              "    }\n",
              "\n",
              "    [theme=dark] .colab-df-convert:hover {\n",
              "      background-color: #434B5C;\n",
              "      box-shadow: 0px 1px 3px 1px rgba(0, 0, 0, 0.15);\n",
              "      filter: drop-shadow(0px 1px 2px rgba(0, 0, 0, 0.3));\n",
              "      fill: #FFFFFF;\n",
              "    }\n",
              "  </style>\n",
              "\n",
              "    <script>\n",
              "      const buttonEl =\n",
              "        document.querySelector('#df-1ae00582-5a05-4ad5-9c05-cc8ea9038984 button.colab-df-convert');\n",
              "      buttonEl.style.display =\n",
              "        google.colab.kernel.accessAllowed ? 'block' : 'none';\n",
              "\n",
              "      async function convertToInteractive(key) {\n",
              "        const element = document.querySelector('#df-1ae00582-5a05-4ad5-9c05-cc8ea9038984');\n",
              "        const dataTable =\n",
              "          await google.colab.kernel.invokeFunction('convertToInteractive',\n",
              "                                                    [key], {});\n",
              "        if (!dataTable) return;\n",
              "\n",
              "        const docLinkHtml = 'Like what you see? Visit the ' +\n",
              "          '<a target=\"_blank\" href=https://colab.research.google.com/notebooks/data_table.ipynb>data table notebook</a>'\n",
              "          + ' to learn more about interactive tables.';\n",
              "        element.innerHTML = '';\n",
              "        dataTable['output_type'] = 'display_data';\n",
              "        await google.colab.output.renderOutput(dataTable, element);\n",
              "        const docLink = document.createElement('div');\n",
              "        docLink.innerHTML = docLinkHtml;\n",
              "        element.appendChild(docLink);\n",
              "      }\n",
              "    </script>\n",
              "  </div>\n",
              "\n",
              "\n",
              "<div id=\"df-4afc133f-ba00-4cb6-b3ab-30f77c5049d3\">\n",
              "  <button class=\"colab-df-quickchart\" onclick=\"quickchart('df-4afc133f-ba00-4cb6-b3ab-30f77c5049d3')\"\n",
              "            title=\"Suggest charts\"\n",
              "            style=\"display:none;\">\n",
              "\n",
              "<svg xmlns=\"http://www.w3.org/2000/svg\" height=\"24px\"viewBox=\"0 0 24 24\"\n",
              "     width=\"24px\">\n",
              "    <g>\n",
              "        <path d=\"M19 3H5c-1.1 0-2 .9-2 2v14c0 1.1.9 2 2 2h14c1.1 0 2-.9 2-2V5c0-1.1-.9-2-2-2zM9 17H7v-7h2v7zm4 0h-2V7h2v10zm4 0h-2v-4h2v4z\"/>\n",
              "    </g>\n",
              "</svg>\n",
              "  </button>\n",
              "\n",
              "<style>\n",
              "  .colab-df-quickchart {\n",
              "      --bg-color: #E8F0FE;\n",
              "      --fill-color: #1967D2;\n",
              "      --hover-bg-color: #E2EBFA;\n",
              "      --hover-fill-color: #174EA6;\n",
              "      --disabled-fill-color: #AAA;\n",
              "      --disabled-bg-color: #DDD;\n",
              "  }\n",
              "\n",
              "  [theme=dark] .colab-df-quickchart {\n",
              "      --bg-color: #3B4455;\n",
              "      --fill-color: #D2E3FC;\n",
              "      --hover-bg-color: #434B5C;\n",
              "      --hover-fill-color: #FFFFFF;\n",
              "      --disabled-bg-color: #3B4455;\n",
              "      --disabled-fill-color: #666;\n",
              "  }\n",
              "\n",
              "  .colab-df-quickchart {\n",
              "    background-color: var(--bg-color);\n",
              "    border: none;\n",
              "    border-radius: 50%;\n",
              "    cursor: pointer;\n",
              "    display: none;\n",
              "    fill: var(--fill-color);\n",
              "    height: 32px;\n",
              "    padding: 0;\n",
              "    width: 32px;\n",
              "  }\n",
              "\n",
              "  .colab-df-quickchart:hover {\n",
              "    background-color: var(--hover-bg-color);\n",
              "    box-shadow: 0 1px 2px rgba(60, 64, 67, 0.3), 0 1px 3px 1px rgba(60, 64, 67, 0.15);\n",
              "    fill: var(--button-hover-fill-color);\n",
              "  }\n",
              "\n",
              "  .colab-df-quickchart-complete:disabled,\n",
              "  .colab-df-quickchart-complete:disabled:hover {\n",
              "    background-color: var(--disabled-bg-color);\n",
              "    fill: var(--disabled-fill-color);\n",
              "    box-shadow: none;\n",
              "  }\n",
              "\n",
              "  .colab-df-spinner {\n",
              "    border: 2px solid var(--fill-color);\n",
              "    border-color: transparent;\n",
              "    border-bottom-color: var(--fill-color);\n",
              "    animation:\n",
              "      spin 1s steps(1) infinite;\n",
              "  }\n",
              "\n",
              "  @keyframes spin {\n",
              "    0% {\n",
              "      border-color: transparent;\n",
              "      border-bottom-color: var(--fill-color);\n",
              "      border-left-color: var(--fill-color);\n",
              "    }\n",
              "    20% {\n",
              "      border-color: transparent;\n",
              "      border-left-color: var(--fill-color);\n",
              "      border-top-color: var(--fill-color);\n",
              "    }\n",
              "    30% {\n",
              "      border-color: transparent;\n",
              "      border-left-color: var(--fill-color);\n",
              "      border-top-color: var(--fill-color);\n",
              "      border-right-color: var(--fill-color);\n",
              "    }\n",
              "    40% {\n",
              "      border-color: transparent;\n",
              "      border-right-color: var(--fill-color);\n",
              "      border-top-color: var(--fill-color);\n",
              "    }\n",
              "    60% {\n",
              "      border-color: transparent;\n",
              "      border-right-color: var(--fill-color);\n",
              "    }\n",
              "    80% {\n",
              "      border-color: transparent;\n",
              "      border-right-color: var(--fill-color);\n",
              "      border-bottom-color: var(--fill-color);\n",
              "    }\n",
              "    90% {\n",
              "      border-color: transparent;\n",
              "      border-bottom-color: var(--fill-color);\n",
              "    }\n",
              "  }\n",
              "</style>\n",
              "\n",
              "  <script>\n",
              "    async function quickchart(key) {\n",
              "      const quickchartButtonEl =\n",
              "        document.querySelector('#' + key + ' button');\n",
              "      quickchartButtonEl.disabled = true;  // To prevent multiple clicks.\n",
              "      quickchartButtonEl.classList.add('colab-df-spinner');\n",
              "      try {\n",
              "        const charts = await google.colab.kernel.invokeFunction(\n",
              "            'suggestCharts', [key], {});\n",
              "      } catch (error) {\n",
              "        console.error('Error during call to suggestCharts:', error);\n",
              "      }\n",
              "      quickchartButtonEl.classList.remove('colab-df-spinner');\n",
              "      quickchartButtonEl.classList.add('colab-df-quickchart-complete');\n",
              "    }\n",
              "    (() => {\n",
              "      let quickchartButtonEl =\n",
              "        document.querySelector('#df-4afc133f-ba00-4cb6-b3ab-30f77c5049d3 button');\n",
              "      quickchartButtonEl.style.display =\n",
              "        google.colab.kernel.accessAllowed ? 'block' : 'none';\n",
              "    })();\n",
              "  </script>\n",
              "</div>\n",
              "\n",
              "  <div id=\"id_5fe9d47c-b095-4505-bc44-12ce8b982595\">\n",
              "    <style>\n",
              "      .colab-df-generate {\n",
              "        background-color: #E8F0FE;\n",
              "        border: none;\n",
              "        border-radius: 50%;\n",
              "        cursor: pointer;\n",
              "        display: none;\n",
              "        fill: #1967D2;\n",
              "        height: 32px;\n",
              "        padding: 0 0 0 0;\n",
              "        width: 32px;\n",
              "      }\n",
              "\n",
              "      .colab-df-generate:hover {\n",
              "        background-color: #E2EBFA;\n",
              "        box-shadow: 0px 1px 2px rgba(60, 64, 67, 0.3), 0px 1px 3px 1px rgba(60, 64, 67, 0.15);\n",
              "        fill: #174EA6;\n",
              "      }\n",
              "\n",
              "      [theme=dark] .colab-df-generate {\n",
              "        background-color: #3B4455;\n",
              "        fill: #D2E3FC;\n",
              "      }\n",
              "\n",
              "      [theme=dark] .colab-df-generate:hover {\n",
              "        background-color: #434B5C;\n",
              "        box-shadow: 0px 1px 3px 1px rgba(0, 0, 0, 0.15);\n",
              "        filter: drop-shadow(0px 1px 2px rgba(0, 0, 0, 0.3));\n",
              "        fill: #FFFFFF;\n",
              "      }\n",
              "    </style>\n",
              "    <button class=\"colab-df-generate\" onclick=\"generateWithVariable('new_df')\"\n",
              "            title=\"Generate code using this dataframe.\"\n",
              "            style=\"display:none;\">\n",
              "\n",
              "  <svg xmlns=\"http://www.w3.org/2000/svg\" height=\"24px\"viewBox=\"0 0 24 24\"\n",
              "       width=\"24px\">\n",
              "    <path d=\"M7,19H8.4L18.45,9,17,7.55,7,17.6ZM5,21V16.75L18.45,3.32a2,2,0,0,1,2.83,0l1.4,1.43a1.91,1.91,0,0,1,.58,1.4,1.91,1.91,0,0,1-.58,1.4L9.25,21ZM18.45,9,17,7.55Zm-12,3A5.31,5.31,0,0,0,4.9,8.1,5.31,5.31,0,0,0,1,6.5,5.31,5.31,0,0,0,4.9,4.9,5.31,5.31,0,0,0,6.5,1,5.31,5.31,0,0,0,8.1,4.9,5.31,5.31,0,0,0,12,6.5,5.46,5.46,0,0,0,6.5,12Z\"/>\n",
              "  </svg>\n",
              "    </button>\n",
              "    <script>\n",
              "      (() => {\n",
              "      const buttonEl =\n",
              "        document.querySelector('#id_5fe9d47c-b095-4505-bc44-12ce8b982595 button.colab-df-generate');\n",
              "      buttonEl.style.display =\n",
              "        google.colab.kernel.accessAllowed ? 'block' : 'none';\n",
              "\n",
              "      buttonEl.onclick = () => {\n",
              "        google.colab.notebook.generateWithVariable('new_df');\n",
              "      }\n",
              "      })();\n",
              "    </script>\n",
              "  </div>\n",
              "\n",
              "    </div>\n",
              "  </div>\n"
            ],
            "application/vnd.google.colaboratory.intrinsic+json": {
              "type": "dataframe",
              "variable_name": "new_df",
              "summary": "{\n  \"name\": \"new_df\",\n  \"rows\": 3424,\n  \"fields\": [\n    {\n      \"column\": \"Course_Name\",\n      \"properties\": {\n        \"dtype\": \"string\",\n        \"num_unique_values\": 3416,\n        \"samples\": [\n          \"Create a Record of Students using Arrays in Java\",\n          \"Fundamentals of financial and management accounting\",\n          \"When Disaster Meets Conflict\"\n        ],\n        \"semantic_type\": \"\",\n        \"description\": \"\"\n      }\n    },\n    {\n      \"column\": \"description_key_words\",\n      \"properties\": {\n        \"dtype\": \"string\",\n        \"num_unique_values\": 3424,\n        \"samples\": [\n          \" The City and You: Find Your Best Place Welcome to The City and You: Find Your Best Place. I'm excited to have you in the class and look forward to your contributions to the other learners in our community.  This free course will provide the knowledge and  the tools needed to understand what cities do, why they matter, the forces shaping the greatest wave of urbanization in history, and how to pick the right place for you. The course will also help you develop critical thinking skills. We'll accomplish this by providing evidence of the importance of cities, and why and how they matter to you. Then we\\ufffdll ask you to apply what you\\ufffdve learned in an exercise which will help you assess your own community and find your best place.   This course is accessible and open to anyone who is interested in learning more about cities and the ways they affect our lives. It is organized around five key modules: (1) Why Cities Matter,  (2) A World of Cities,  (3) The Creative City, (4) The Divided City and the New Urban Crisis, and (5) How to Find the Best Place for You.   After completing the course, you will be able to:   (1) Identify why cities are the drivers of economic prosperity; (2) Explain the drivers and implications of fast-growing urbanization worldwide; (3) Outline the key characteristics of a creative and innovative city; (4) Describe the social divides and challenges facing cities and the solutions cities are using to address them; and (5) Recognize the trade-offs of staying in your current city versus moving, and identify the best place for you and your family to live.  Of course the world has changed a great deal since I developed this course. The Global COVID-19 Pandemic is affecting cities, businesses and people around the world. It is something I have been writing about and working with mayors, city managers, economic developers, urban leaders and communities across the globe. I have put together a new module on Cities and the Coronavirus to help you better understand the ways in which the Covid-19 crisis is impacting cities and how you can best understand  and deal with that.  I\\ufffdd like to wish each and every one of you good luck as you get started on this journey. I hope you enjoy the course! economy  pandemic  global city  financial centre  crisis  global  curiosity  slum  emerging markets  Creativity social-sciences governance-and-society Beginner\",\n          \" User Experience: Research & Prototyping What makes for a great user experience? How can you consistently design experiences that work well, are easy to use and  people want to use? This course will teach you the core process of experience design and how to effectively evaluate your work with the people for whom you are designing. You'll learn fundamental methods of design research that will enable  you to effectively understand people, the sequences of their actions, and the context in which they work. Through the assignments, you\\ufffdll learn practical techniques for making sense of what you see and transform your observations into meaningful actionable insights and unique opportunity areas for design.  You\\ufffdll also explore how to generate ideas in response to the opportunities identified and learn methods for making your ideas tangible. By answering specific questions and refining your concepts, you\\ufffdll move closer to making your ideas real. We\\ufffdll use cases from a variety of industries including health, education, transportation, finance, and beyond to illustrate how these methods work across different domains.   Good luck and we hope you enjoy the course! i-deas  User Experience  Human Computer Interaction  thought  Map  experience  interview  interaction design  persona (user experience)  User Research computer-science design-and-product Advanced\",\n          \" The Manager's Toolkit: A Practical Guide to Managing People at Work The aim of this course is to give you a practical guide to managing people at work. It does not matter whether you are a first time manager in a shop or a middle manager in an office environment; the same skills apply to every work place. In the course you will engage with some HR theories and then see how they translate into every day working life.   At the end of the course we hope you will be better equipped to choose a suitable employee, to motivate and appraise your team, to manage conflict in the work place and to lead and make decision on a day to day basis. Leadership and Management  organizational conflict  leadership  Human Resources  conflict resolution  performance appraisal  Conflict Management  interview  Performance Management  performance business leadership-and-management Beginner\"\n        ],\n        \"semantic_type\": \"\",\n        \"description\": \"\"\n      }\n    }\n  ]\n}"
            }
          },
          "metadata": {},
          "execution_count": 17
        }
      ]
    },
    {
      "cell_type": "markdown",
      "source": [
        "### Menampilkan isi baris ke 5 dari kolom \"description_key_words\""
      ],
      "metadata": {
        "id": "vixWHPdyF2Hn"
      }
    },
    {
      "cell_type": "code",
      "source": [
        "new_df[\"description_key_words\"].iloc[5]"
      ],
      "metadata": {
        "colab": {
          "base_uri": "https://localhost:8080/",
          "height": 127
        },
        "id": "cXCF-V3Zq-LX",
        "outputId": "3f43f9dd-80ac-44c0-b2e7-aeba3f5feda1"
      },
      "execution_count": 18,
      "outputs": [
        {
          "output_type": "execute_result",
          "data": {
            "text/plain": [
              "' Building Test Automation Framework using Selenium and TestNG Selenium is one of the most widely used functional UI automation testing tools and TestNG is a brilliant testing framework.  Test automation frameworks are a set of guidelines or rules for writing test cases.  They can reduce maintenance costs and testing efforts and will provide a higher return on investment (ROI) for teams looking to optimize their processes.  Testing guidelines include coding standards, test-data management, defining object repositories, reporting guidelines, and logging strategies.  Through hands-on, practical experience, you will go through concepts writing reusable and structure code which is easy to maintain and understand, creating helper classes or utilities, write effective testcases, and generating reports and logs. maintenance  test case  test automation  screenshot  project  helper class  selenium  reusability  debugging  php computer-science software-development Beginner'"
            ],
            "application/vnd.google.colaboratory.intrinsic+json": {
              "type": "string"
            }
          },
          "metadata": {},
          "execution_count": 18
        }
      ]
    },
    {
      "cell_type": "markdown",
      "source": [
        "### Mendefinisikan my_lematizer dan mendefinisikan fungsi PreprocessText\n",
        "\n"
      ],
      "metadata": {
        "id": "ImekxRJMGhP3"
      }
    },
    {
      "cell_type": "code",
      "source": [
        "my_lematizer = WordNetLemmatizer()\n",
        "\n",
        "def PreprocessText(text):\n",
        "\n",
        "    cleaned_text = re.sub(r'-',' ',text)\n",
        "\n",
        "    # remove  urls\n",
        "    cleaned_text = re.sub(r'https?://\\S+|www\\.\\S+|http?://\\S+',' ',cleaned_text)\n",
        "    # remove html tags\n",
        "    cleaned_text = re.sub(r'<.*?>',' ',cleaned_text)\n",
        "    # replace all numbers\n",
        "    cleaned_text = re.sub(r'[0-9]', '', cleaned_text)\n",
        "    # filtering out miscellaneous text.\n",
        "    cleaned_text = re.sub(r\"\\([^()]*\\)\", \"\", cleaned_text)\n",
        "    # remove mentions\n",
        "    cleaned_text = re.sub('@\\S+', '', cleaned_text)\n",
        "    # removes ponctuations\n",
        "    cleaned_text = re.sub('[%s]' % re.escape(\"\"\"!\"#$%&'()*+,-./:;<=>?@[\\]^_`{|}~\"\"\"), '', cleaned_text)\n",
        "\n",
        "    cleaned_text = re.sub(r'ML',' Machine Learning ',cleaned_text)\n",
        "\n",
        "    cleaned_text = re.sub(r'DL',' Deep Learning ',cleaned_text)\n",
        "\n",
        "    cleaned_text = cleaned_text.lower() #\n",
        "    cleaned_text = cleaned_text.split()\n",
        "\n",
        "    # apply lematisation\n",
        "    cleaned_text = ' '.join([my_lematizer.lemmatize(word) for word in cleaned_text])\n",
        "\n",
        "    return cleaned_text"
      ],
      "metadata": {
        "id": "gDNuq2-9rnkA"
      },
      "execution_count": 19,
      "outputs": []
    },
    {
      "cell_type": "markdown",
      "source": [
        "### Download 'wordnet' dan 'omw-1.4' dari nltk"
      ],
      "metadata": {
        "id": "o2HGg1SWGEfs"
      }
    },
    {
      "cell_type": "code",
      "source": [
        "nltk.download('wordnet')\n",
        "nltk.download('omw-1.4')"
      ],
      "metadata": {
        "colab": {
          "base_uri": "https://localhost:8080/"
        },
        "id": "ITm5hI4Rr2n_",
        "outputId": "359104fb-fb93-4c15-bf1a-2e53c732055b"
      },
      "execution_count": 20,
      "outputs": [
        {
          "output_type": "stream",
          "name": "stderr",
          "text": [
            "[nltk_data] Downloading package wordnet to /root/nltk_data...\n",
            "[nltk_data] Downloading package omw-1.4 to /root/nltk_data...\n"
          ]
        },
        {
          "output_type": "execute_result",
          "data": {
            "text/plain": [
              "True"
            ]
          },
          "metadata": {},
          "execution_count": 20
        }
      ]
    },
    {
      "cell_type": "markdown",
      "source": [
        "### Menerapkan pemrosesan teks pada description_key_words dan menampilkan hasilnya pada iloc 5"
      ],
      "metadata": {
        "id": "CqV9j4AwmMyz"
      }
    },
    {
      "cell_type": "code",
      "source": [
        "new_df[\"description_key_words\"] = new_df[\"description_key_words\"].apply(PreprocessText)\n",
        "new_df[\"description_key_words\"].iloc[5]"
      ],
      "metadata": {
        "colab": {
          "base_uri": "https://localhost:8080/",
          "height": 127
        },
        "id": "3kLlTq7WrneK",
        "outputId": "4a9b01a9-4e2c-4ecd-dcd4-635fcd2902e6"
      },
      "execution_count": 21,
      "outputs": [
        {
          "output_type": "execute_result",
          "data": {
            "text/plain": [
              "'building test automation framework using selenium and testng selenium is one of the most widely used functional ui automation testing tool and testng is a brilliant testing framework test automation framework are a set of guideline or rule for writing test case they can reduce maintenance cost and testing effort and will provide a higher return on investment for team looking to optimize their process testing guideline include coding standard test data management defining object repository reporting guideline and logging strategy through hand on practical experience you will go through concept writing reusable and structure code which is easy to maintain and understand creating helper class or utility write effective testcases and generating report and log maintenance test case test automation screenshot project helper class selenium reusability debugging php computer science software development beginner'"
            ],
            "application/vnd.google.colaboratory.intrinsic+json": {
              "type": "string"
            }
          },
          "metadata": {},
          "execution_count": 21
        }
      ]
    },
    {
      "cell_type": "markdown",
      "source": [
        "### Vectorization"
      ],
      "metadata": {
        "id": "eheFsIAesD3v"
      }
    },
    {
      "cell_type": "code",
      "source": [
        "vectorizer = CountVectorizer(max_features=10000, stop_words='english')\n",
        "vectors = vectorizer.fit_transform(new_df[\"description_key_words\"]).toarray()"
      ],
      "metadata": {
        "id": "F2nL10xKrnbQ"
      },
      "execution_count": 22,
      "outputs": []
    },
    {
      "cell_type": "markdown",
      "source": [
        "### Menampilkan bentuk matriks feature dan ukuran kamus"
      ],
      "metadata": {
        "id": "zSwpeAQ3nIEf"
      }
    },
    {
      "cell_type": "code",
      "source": [
        "print(\"Shape of feature  matrix: \", vectors.shape)\n",
        "print(\"Vocabulary size : \", len(vectorizer.vocabulary_))"
      ],
      "metadata": {
        "colab": {
          "base_uri": "https://localhost:8080/"
        },
        "id": "Y35MBBeprnYe",
        "outputId": "8a5856e8-6985-469a-db0b-4b46bebf181f"
      },
      "execution_count": 23,
      "outputs": [
        {
          "output_type": "stream",
          "name": "stdout",
          "text": [
            "Shape of feature  matrix:  (3424, 10000)\n",
            "Vocabulary size :  10000\n"
          ]
        }
      ]
    },
    {
      "cell_type": "markdown",
      "source": [
        "## Modeling"
      ],
      "metadata": {
        "id": "G-u7seqNlkOB"
      }
    },
    {
      "cell_type": "markdown",
      "source": [
        "### Membuat fungsi course_id_recommended"
      ],
      "metadata": {
        "id": "7JSe96nUsOiP"
      }
    },
    {
      "cell_type": "code",
      "source": [
        "def course_id_recommended(description, vectorizer, vectors, number_of_recommendation=5):\n",
        "    # preprocess text\n",
        "    description = [PreprocessText(description)]\n",
        "\n",
        "    # Melakukan vectorization\n",
        "    vect = vectorizer.transform(description)\n",
        "\n",
        "    # menghitung similarity dengan vektor feature yang lain\n",
        "    similars_vectors = cosine_similarity(vect, vectors)[0]\n",
        "\n",
        "    # Mengurutkan nilai similarity dengan urutan ascending (Hasilnya berupa suatu list indices)\n",
        "    ordered_similars_vectors = list(similars_vectors.argsort())\n",
        "\n",
        "    # Membalikkan urutan\n",
        "    reverse_ordered_similars_vectors = [index for index in reversed(ordered_similars_vectors)]\n",
        "\n",
        "    # Sejumlah indices rekomendasi dipilih berdasarkan pada koefiesien similaritay tertinggi\n",
        "    best_indexs = reverse_ordered_similars_vectors[1:number_of_recommendation]\n",
        "\n",
        "    return best_indexs"
      ],
      "metadata": {
        "id": "9HC_tlgfrnSe"
      },
      "execution_count": 24,
      "outputs": []
    },
    {
      "cell_type": "markdown",
      "source": [
        "### Membuat fungsi recommend_me"
      ],
      "metadata": {
        "id": "V2xol--9nmD8"
      }
    },
    {
      "cell_type": "code",
      "source": [
        "def recommend_me(description):\n",
        "    course_index = course_id_recommended(description, vectorizer, vectors, number_of_recommendation=10)\n",
        "    if course_index != None:\n",
        "        course_to_recommend = list(new_df.iloc[course_index][\"Course_Name\"])\n",
        "        print(\"Courses yang direkomendasikan ke user: \")\n",
        "        print(\"------------------------------------------------------------------\")\n",
        "        for i, course in enumerate(course_to_recommend):\n",
        "            print(f\"\\t{i+1}- {course}\")\n",
        "        print(\"------------------------------------------------------------------\")\n",
        "    else:\n",
        "        print(\"Tidak ada course yang direkomendasikan ke anda\")"
      ],
      "metadata": {
        "id": "a2LoRHdpsWmp"
      },
      "execution_count": 25,
      "outputs": []
    },
    {
      "cell_type": "markdown",
      "source": [
        "## Evaluasi"
      ],
      "metadata": {
        "id": "juFSwWARrC9Z"
      }
    },
    {
      "cell_type": "markdown",
      "source": [
        "### Menampikan top 9 course yang direkomendasikan ke user dari kata kunci \"Python programming\""
      ],
      "metadata": {
        "id": "EMZm8uUgogw-"
      }
    },
    {
      "cell_type": "code",
      "source": [
        "recommend_me(\"Python programming\")"
      ],
      "metadata": {
        "colab": {
          "base_uri": "https://localhost:8080/"
        },
        "id": "B1SIG9yosWjl",
        "outputId": "dd4ce771-4210-454f-e25e-7a058c7d2034"
      },
      "execution_count": 26,
      "outputs": [
        {
          "output_type": "stream",
          "name": "stdout",
          "text": [
            "Courses yang direkomendasikan ke user: \n",
            "------------------------------------------------------------------\n",
            "\t1- Python Programming Essentials\n",
            "\t2- Python Data Representations\n",
            "\t3- Python Basics\n",
            "\t4- Python Programming: A Concise Introduction\n",
            "\t5- Compose and Program Music in Python using Earsketch\n",
            "\t6- Crash Course on Python\n",
            "\t7- Python Functions, Files, and Dictionaries\n",
            "\t8- Python Data Structures\n",
            "\t9- Programming for Everybody (Getting Started with Python)\n",
            "------------------------------------------------------------------\n"
          ]
        }
      ]
    }
  ]
}